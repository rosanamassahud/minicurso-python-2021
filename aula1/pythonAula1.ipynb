{
  "nbformat": 4,
  "nbformat_minor": 0,
  "metadata": {
    "colab": {
      "name": "pythonAula1.ipynb",
      "provenance": [],
      "collapsed_sections": [],
      "toc_visible": true
    },
    "kernelspec": {
      "name": "python3",
      "display_name": "Python 3"
    }
  },
  "cells": [
    {
      "cell_type": "markdown",
      "metadata": {
        "id": "lLTMWfzQncFw"
      },
      "source": [
        "# **Comandos de saída**"
      ]
    },
    {
      "cell_type": "code",
      "metadata": {
        "id": "J4mTgWmtv8su",
        "colab": {
          "base_uri": "https://localhost:8080/"
        },
        "outputId": "52e81e3f-1bc8-4610-ff18-0477304b46aa"
      },
      "source": [
        "print(\"Alo mundo!\\n Nossa primeira aula em Python\")"
      ],
      "execution_count": 1,
      "outputs": [
        {
          "output_type": "stream",
          "name": "stdout",
          "text": [
            "Alo mundo!\n",
            " Nossa primeira aula em Python\n"
          ]
        }
      ]
    },
    {
      "cell_type": "code",
      "metadata": {
        "id": "NkP1vmlVv8sd",
        "colab": {
          "base_uri": "https://localhost:8080/"
        },
        "outputId": "a78f4a92-ec66-4524-f4db-7f1916bc766e"
      },
      "source": [
        "help(print)"
      ],
      "execution_count": 2,
      "outputs": [
        {
          "output_type": "stream",
          "name": "stdout",
          "text": [
            "Help on built-in function print in module builtins:\n",
            "\n",
            "print(...)\n",
            "    print(value, ..., sep=' ', end='\\n', file=sys.stdout, flush=False)\n",
            "    \n",
            "    Prints the values to a stream, or to sys.stdout by default.\n",
            "    Optional keyword arguments:\n",
            "    file:  a file-like object (stream); defaults to the current sys.stdout.\n",
            "    sep:   string inserted between values, default a space.\n",
            "    end:   string appended after the last value, default a newline.\n",
            "    flush: whether to forcibly flush the stream.\n",
            "\n"
          ]
        }
      ]
    },
    {
      "cell_type": "code",
      "metadata": {
        "id": "HE8DxDwSv8r5",
        "colab": {
          "base_uri": "https://localhost:8080/"
        },
        "outputId": "4f8a1540-5ce8-43c7-e1f1-cb5069ad09dd"
      },
      "source": [
        "print('O Brasil', 'ganhou', 5, 'títulos mundiais', sep='-', end='!')\n",
        "print('Teste de quebra de linha')"
      ],
      "execution_count": 3,
      "outputs": [
        {
          "output_type": "stream",
          "name": "stdout",
          "text": [
            "O Brasil-ganhou-5-títulos mundiais!Teste de quebra de linha\n"
          ]
        }
      ]
    },
    {
      "cell_type": "markdown",
      "metadata": {
        "id": "l9zsbETOohJs"
      },
      "source": [
        "# **Variáveis**\n"
      ]
    },
    {
      "cell_type": "code",
      "metadata": {
        "id": "m_UgvNSaojQv",
        "colab": {
          "base_uri": "https://localhost:8080/"
        },
        "outputId": "5c4d6b37-9725-4dd1-97cf-1458d5806b23"
      },
      "source": [
        "nome = 'Toni Luiz'\n",
        "idade = 18\n",
        "print(nome, 'tem', idade, 'anos')\n",
        "\n",
        "print(type(idade))\n",
        "print(type(nome))\n",
        "\n",
        "idade = 17.5\n",
        "print(type(idade))"
      ],
      "execution_count": 4,
      "outputs": [
        {
          "output_type": "stream",
          "name": "stdout",
          "text": [
            "Toni Luiz tem 18 anos\n",
            "<class 'int'>\n",
            "<class 'str'>\n",
            "<class 'float'>\n"
          ]
        }
      ]
    },
    {
      "cell_type": "markdown",
      "metadata": {
        "id": "J0jCffcFpOb2"
      },
      "source": [
        "# Tipos de Dados\n",
        "                             - Inteiros: números sem casa decimal: 10, 5, -4\n",
        "                           /\n",
        "             - Numéricos - - Reais: números com casa decima: 3.14, 75.18, 0.0\n",
        "           /               \\\n",
        "          /                  - Complex: parte real e parte imaginária (j)\n",
        "- Dados - \n",
        "          \\                      - Lógicos: True ou False\n",
        "           \\                   /\n",
        "             - Não numéricos - \n",
        "                               \\\n",
        "                                 - Texto (cadeia de caracteres): \"Python\", \"José Maria da Silva\", \"34567-890\"\n",
        "                                 \n",
        "O Python possui tipos primitivos para cada um desses tipos de dados. São eles o int, float, bool e o str.\n",
        "\n",
        "A tipagem do Python é dinâmica!\n",
        "\n"
      ]
    },
    {
      "cell_type": "markdown",
      "metadata": {
        "id": "ZvliIvDurAoD"
      },
      "source": [
        "# **Tipos de dados numéricos** (int, float, complex)\n"
      ]
    },
    {
      "cell_type": "code",
      "metadata": {
        "id": "evzZOJnnrSeo",
        "colab": {
          "base_uri": "https://localhost:8080/"
        },
        "outputId": "3ffee365-f7f5-4be4-92cb-c1f13f967ed5"
      },
      "source": [
        "x = 35e3 #float\n",
        "y = 12E4\n",
        "z = -87.7e-2\n",
        "k = 2.5e100\n",
        "print(x)\n",
        "print(y)\n",
        "print(z)\n",
        "print(k)\n",
        "a = 2\n",
        "print(a, type(a))\n",
        "x = 3.5-5j #3.5 -5i\n",
        "print(x, type(x))"
      ],
      "execution_count": 7,
      "outputs": [
        {
          "output_type": "stream",
          "name": "stdout",
          "text": [
            "35000.0\n",
            "120000.0\n",
            "-0.877\n",
            "2.5e+100\n",
            "2 <class 'int'>\n",
            "(3.5-5j) <class 'complex'>\n"
          ]
        }
      ]
    },
    {
      "cell_type": "markdown",
      "metadata": {
        "id": "8AT7rjx9pVSS"
      },
      "source": [
        "# **Casting**\n",
        "\n",
        "\n"
      ]
    },
    {
      "cell_type": "code",
      "metadata": {
        "id": "s_BG9OHvpWvx",
        "colab": {
          "base_uri": "https://localhost:8080/"
        },
        "outputId": "9b9b5680-4adf-4a0c-86bb-b2887e035605"
      },
      "source": [
        "print(idade)\n",
        "print(type(idade))\n",
        "print(int(idade))\n",
        "print(type(idade))\n",
        "idade = int(idade)\n",
        "print(type(idade))\n",
        "num=2\n",
        "print(num, type(num))\n",
        "num=float(num)\n",
        "print(num, type(num))\n",
        "\n",
        "a = 2.5\n",
        "print(a, type(a))\n",
        "b = complex(a)\n",
        "print(b, type(b))\n",
        "c = str(a)\n",
        "print(c, type(c))\n",
        "s = '3'\n",
        "print(s, type(s))\n",
        "x = int(s)\n",
        "print(x, type(x))"
      ],
      "execution_count": 8,
      "outputs": [
        {
          "output_type": "stream",
          "name": "stdout",
          "text": [
            "17.5\n",
            "<class 'float'>\n",
            "17\n",
            "<class 'float'>\n",
            "<class 'int'>\n",
            "2 <class 'int'>\n",
            "2.0 <class 'float'>\n",
            "2.5 <class 'float'>\n",
            "(2.5+0j) <class 'complex'>\n",
            "2.5 <class 'str'>\n",
            "3 <class 'str'>\n",
            "3 <class 'int'>\n"
          ]
        }
      ]
    },
    {
      "cell_type": "markdown",
      "metadata": {
        "id": "Bhb9_AIbbFdE"
      },
      "source": [
        "# **Strings**"
      ]
    },
    {
      "cell_type": "code",
      "metadata": {
        "id": "dSbt5_uybJjj",
        "colab": {
          "base_uri": "https://localhost:8080/"
        },
        "outputId": "a8a097ce-d5c6-4d18-a5d3-548dc49c0b8d"
      },
      "source": [
        "str = 'Strings são arrays'\n",
        "print(str)"
      ],
      "execution_count": 9,
      "outputs": [
        {
          "output_type": "stream",
          "name": "stdout",
          "text": [
            "Strings são arrays\n"
          ]
        }
      ]
    },
    {
      "cell_type": "code",
      "metadata": {
        "id": "V-XWS7Z40fu_",
        "colab": {
          "base_uri": "https://localhost:8080/"
        },
        "outputId": "d0ca5588-2464-4c68-87b1-7988e27d57f3"
      },
      "source": [
        "a = '''Lorem ipsum dolor sit amet,\n",
        "consectetur adipiscing elit,\n",
        "sed do eiusmod tempor incididunt\n",
        "ut labore et dolore magna aliqua.'''\n",
        "print(a)"
      ],
      "execution_count": 10,
      "outputs": [
        {
          "output_type": "stream",
          "name": "stdout",
          "text": [
            "Lorem ipsum dolor sit amet,\n",
            "consectetur adipiscing elit,\n",
            "sed do eiusmod tempor incididunt\n",
            "ut labore et dolore magna aliqua.\n"
          ]
        }
      ]
    },
    {
      "cell_type": "code",
      "metadata": {
        "id": "PGqNmg0g1Gw3",
        "colab": {
          "base_uri": "https://localhost:8080/"
        },
        "outputId": "cbb19481-c7d3-4ef7-bbaf-cd14218dc31c"
      },
      "source": [
        "print(str[0], str[1], str[4])"
      ],
      "execution_count": 11,
      "outputs": [
        {
          "output_type": "stream",
          "name": "stdout",
          "text": [
            "S t n\n"
          ]
        }
      ]
    },
    {
      "cell_type": "code",
      "metadata": {
        "id": "QGqJMD3e1MXx",
        "colab": {
          "base_uri": "https://localhost:8080/"
        },
        "outputId": "78d7633a-19cb-4389-da60-c276b488c0a6"
      },
      "source": [
        "print(str[2:6])"
      ],
      "execution_count": 12,
      "outputs": [
        {
          "output_type": "stream",
          "name": "stdout",
          "text": [
            "ring\n"
          ]
        }
      ]
    },
    {
      "cell_type": "code",
      "metadata": {
        "id": "G0xiyhHN1wyH",
        "colab": {
          "base_uri": "https://localhost:8080/"
        },
        "outputId": "52c26779-636b-4537-979c-460bf0b6986e"
      },
      "source": [
        "print(str.lower())\n",
        "print(str.upper())\n",
        "print(str.capitalize())\n",
        "print(str.title())"
      ],
      "execution_count": 15,
      "outputs": [
        {
          "output_type": "stream",
          "name": "stdout",
          "text": [
            "strings são arrays\n",
            "STRINGS SÃO ARRAYS\n",
            "Strings são arrays\n",
            "Strings São Arrays\n"
          ]
        }
      ]
    },
    {
      "cell_type": "code",
      "metadata": {
        "id": "3L7zFRRd3Ml3",
        "colab": {
          "base_uri": "https://localhost:8080/"
        },
        "outputId": "76eedc6e-75bf-4abb-88d8-ec3ef5e6c2ea"
      },
      "source": [
        "str = '  Hello, World! '\n",
        "print(str)\n",
        "print(str.strip())"
      ],
      "execution_count": 16,
      "outputs": [
        {
          "output_type": "stream",
          "name": "stdout",
          "text": [
            "  Hello, World! \n",
            "Hello, World!\n"
          ]
        }
      ]
    },
    {
      "cell_type": "code",
      "metadata": {
        "id": "ghnvDKSU3mh4",
        "colab": {
          "base_uri": "https://localhost:8080/"
        },
        "outputId": "c80e434d-328d-441e-ed14-9eb11b36e697"
      },
      "source": [
        "idade = 18\n",
        "nome = 'Toni Luiz'\n",
        "print(nome, 'tem', idade, 'anos!')\n",
        "print('{} tem {} anos!'.format(nome, idade))\n",
        "frase = '{} tem {} anos!'\n",
        "print(frase.format(nome, idade))"
      ],
      "execution_count": 17,
      "outputs": [
        {
          "output_type": "stream",
          "name": "stdout",
          "text": [
            "Toni Luiz tem 18 anos!\n",
            "Toni Luiz tem 18 anos!\n",
            "Toni Luiz tem 18 anos!\n"
          ]
        }
      ]
    },
    {
      "cell_type": "code",
      "metadata": {
        "id": "e_wwMhY036Yc",
        "colab": {
          "base_uri": "https://localhost:8080/"
        },
        "outputId": "c6b69ffc-e1c9-4417-f05b-31115ff433dc"
      },
      "source": [
        "print(f'{nome} tem {idade} anos!')"
      ],
      "execution_count": 18,
      "outputs": [
        {
          "output_type": "stream",
          "name": "stdout",
          "text": [
            "Toni Luiz tem 18 anos!\n"
          ]
        }
      ]
    },
    {
      "cell_type": "markdown",
      "metadata": {
        "id": "kjiFeWr0bIsI"
      },
      "source": [
        "# Entrada de Dados\n",
        "A partir do Python 3.6 temos o comando input\n",
        "\n",
        "Em versões anteriores, tínhamos o comando raw_input"
      ]
    },
    {
      "cell_type": "code",
      "metadata": {
        "id": "cvhfmy7FbG6l",
        "colab": {
          "base_uri": "https://localhost:8080/"
        },
        "outputId": "8600f489-0b41-4618-c3a6-0f1cea0ba3b4"
      },
      "source": [
        "nome = input('Entre com o seu nome: ')\n",
        "print('Olá {}, seja bem vindo!'.format(nome))"
      ],
      "execution_count": 19,
      "outputs": [
        {
          "output_type": "stream",
          "name": "stdout",
          "text": [
            "Entre com o seu nome: Rosana\n",
            "Olá Rosana, seja bem vindo!\n"
          ]
        }
      ]
    },
    {
      "cell_type": "code",
      "metadata": {
        "id": "amOHWzTJ64Hd",
        "colab": {
          "base_uri": "https://localhost:8080/"
        },
        "outputId": "6b06b79c-2a06-4273-ea57-8c501c2e50c6"
      },
      "source": [
        "peso = float(input('Qual o seu peso? '))\n",
        "altura = float(input('Qual sua altura? '))\n",
        "imc = peso/(altura*altura)\n",
        "print('Seu IMC é {}'.format(imc))"
      ],
      "execution_count": 22,
      "outputs": [
        {
          "output_type": "stream",
          "name": "stdout",
          "text": [
            "Qual o seu peso? 57\n",
            "Qual sua altura? 1.71\n",
            "Seu IMC é 19.493177387914233\n"
          ]
        }
      ]
    },
    {
      "cell_type": "markdown",
      "metadata": {
        "id": "XM4zZEJTc8Uy"
      },
      "source": [
        "# OPERADORES"
      ]
    },
    {
      "cell_type": "markdown",
      "metadata": {
        "id": "w0rU1cnGdO9F"
      },
      "source": [
        "# Operadores aritméticos\n",
        "\n",
        "| Operador | Significado   | Exemplo                    |\n",
        "|:---|:---|:---|\n",
        "|     +    | Adição        | a = 3 + 2                  |\n",
        "|     -    | Subtração     | b = 7 - a                  |\n",
        "|     *    | Multiplicação | c = a * b                  |\n",
        "|     /    | Divisão       | d = 10/3                   |\n",
        "|    //    | Quociente     | e = 10//3                  |\n",
        "|     %    | Resto         | f = 10%3                   |\n",
        "|    **    | Exponenciação | g = 2 ** 3                 |\n",
        "|    **    | Radiciação    | h = 16 ** (1/2)            |"
      ]
    },
    {
      "cell_type": "code",
      "metadata": {
        "colab": {
          "base_uri": "https://localhost:8080/"
        },
        "id": "Yf9isch1dZuI",
        "outputId": "a29bdf96-fbe2-428d-d1a5-60164a5ff3b0"
      },
      "source": [
        "x = 5\n",
        "y = 2\n",
        "\n",
        "a = x + y\n",
        "b = x - y\n",
        "c = x * y\n",
        "d = x / y\n",
        "e = x // y\n",
        "f = x % y\n",
        "g = x ** y\n",
        "h = g ** 0.5\n",
        "\n",
        "print('a = {}\\nb = {}\\nc = {}\\nd = {}\\ne = {}\\nf = {}\\ng = {}\\nh = {}'.format(a,b,c,d,e,f,g,h))"
      ],
      "execution_count": 23,
      "outputs": [
        {
          "output_type": "stream",
          "name": "stdout",
          "text": [
            "a = 7\n",
            "b = 3\n",
            "c = 10\n",
            "d = 2.5\n",
            "e = 2\n",
            "f = 1\n",
            "g = 25\n",
            "h = 5.0\n"
          ]
        }
      ]
    },
    {
      "cell_type": "markdown",
      "metadata": {
        "id": "dqn5EXsAddzP"
      },
      "source": [
        "# Booleanos, Operadores relacionais\n",
        "\n",
        "| Operador | Significado   | Exemplo                    |\n",
        "|:---|:---|:---|\n",
        "| == | Igualdade | a == b |\n",
        "| != | DesiIgualdade | a != b |\n",
        "| > | Maior que | a > b |\n",
        "| < | Menor que | a < b |\n",
        "| >= | Maior ou igual | a >= b |\n",
        "| <= | Menor ou igual | a <= b |"
      ]
    },
    {
      "cell_type": "code",
      "metadata": {
        "id": "b5JqaQeUdiVW"
      },
      "source": [
        "a = x > y\n",
        "b = x < y\n",
        "c = x == y\n",
        "d = x != y\n",
        "print('a = {}\\nb = {}\\nc = {}\\nd = {}'.format(a,b,c,d))"
      ],
      "execution_count": null,
      "outputs": []
    },
    {
      "cell_type": "markdown",
      "metadata": {
        "id": "b7TMeewidnK9"
      },
      "source": [
        "# Operadores lógicos (conectivos lógicos)\n",
        "\n",
        "| Operador | Significado   | Exemplo                    |\n",
        "|:---|:---|:---|\n",
        "| and | **E** lógico | a == b and b == c |\n",
        "| or | **OU** lógico | a == b or b == c |\n",
        "| ^ | **OU** exclusivo (XOR) | a == b ^ b == c |\n",
        "| not | Negação (inverte o resultado lógico) | not(a == b and b == c) |\n",
        "\n",
        "### Tabela verdade (AND)\n",
        "\n",
        "| a | b | a and b |\n",
        "|:--:|:--:|:--:|\n",
        "| True  | True  | **True** |\n",
        "| True  | False | False |\n",
        "| False | True  | False |\n",
        "| False | False | False |\n",
        "\n",
        "| a | b | c | a and b and c |\n",
        "|:--:|:--:|:--:|:--:|\n",
        "| True  | True  | True  | **True** |\n",
        "| True  | True  | False | False |\n",
        "| True  | False | True  | False |\n",
        "| True  | False | False | False |\n",
        "| False | True  | True  | False |\n",
        "| False | True  | False | False |\n",
        "| False | False | True  | False |\n",
        "| False | False | False | False |\n",
        "\n",
        "### Tabela verdade (OR)\n",
        "\n",
        "| a | b | a and b |\n",
        "|:--:|:--:|:--:|\n",
        "| True  | True  | **True** |\n",
        "| True  | False | **True** |\n",
        "| False | True  | **True** |\n",
        "| False | False | False |\n",
        "\n",
        "### Tabela verdade (XOR)\n",
        "\n",
        "| a | b | a ^ b |\n",
        "|:--:|:--:|:--:|\n",
        "| True  | True  | False |\n",
        "| True  | False | **True** |\n",
        "| False | True  | **True** |\n",
        "| False | False | False |\n",
        "\n",
        "### Tabela verdade (NOT)\n",
        "| a | not(a) |\n",
        "|:--:|:--:|\n",
        "| True  | False |\n",
        "| False | **True** |"
      ]
    },
    {
      "cell_type": "code",
      "metadata": {
        "colab": {
          "base_uri": "https://localhost:8080/"
        },
        "id": "oj8QFj6KdtpM",
        "outputId": "fde6446c-007e-4cfa-8393-a8b2f6465de6"
      },
      "source": [
        "# TABELA DO AND (com 2 booleanos)\n",
        "print(\" x     | y     | x and y \")\n",
        "print(\"-------------------------\")\n",
        "print(\" True  | True  |\", True and True )\n",
        "print(\" True  | False |\", True and False )\n",
        "print(\" False | True  |\", False and True)\n",
        "print(\" False | False |\", False and False)"
      ],
      "execution_count": 24,
      "outputs": [
        {
          "output_type": "stream",
          "name": "stdout",
          "text": [
            " x     | y     | x and y \n",
            "-------------------------\n",
            " True  | True  | True\n",
            " True  | False | False\n",
            " False | True  | False\n",
            " False | False | False\n"
          ]
        }
      ]
    },
    {
      "cell_type": "code",
      "metadata": {
        "colab": {
          "base_uri": "https://localhost:8080/"
        },
        "id": "kDzAMboudv9d",
        "outputId": "92bb3562-bbde-44cd-a916-7873e33d1c57"
      },
      "source": [
        "# TABELA DO AND (com 3 booleanos)\n",
        "print(\" x     | y     | z     |  x and y and z \")\n",
        "print(\"----------------------------------------\")\n",
        "print(\" True  | True  | True  |\",True and True and True)\n",
        "print(\" True  | True  | False |\",True and True and False)\n",
        "print(\" True  | False | True  |\",True and False and True)\n",
        "print(\" True  | False | False |\",True and False and False)\n",
        "print(\" False | True  | True  |\",False and True and True)\n",
        "print(\" False | True  | False |\",False and True and False)\n",
        "print(\" False | False | True  |\",False and False and True)\n",
        "print(\" False | False | False |\",False and False and False)"
      ],
      "execution_count": 25,
      "outputs": [
        {
          "output_type": "stream",
          "name": "stdout",
          "text": [
            " x     | y     | z     |  x and y and z \n",
            "----------------------------------------\n",
            " True  | True  | True  | True\n",
            " True  | True  | False | False\n",
            " True  | False | True  | False\n",
            " True  | False | False | False\n",
            " False | True  | True  | False\n",
            " False | True  | False | False\n",
            " False | False | True  | False\n",
            " False | False | False | False\n"
          ]
        }
      ]
    },
    {
      "cell_type": "code",
      "metadata": {
        "colab": {
          "base_uri": "https://localhost:8080/"
        },
        "id": "WxEqzoDwdyst",
        "outputId": "f04dcc96-c269-464c-ffa9-3d5854a43863"
      },
      "source": [
        "# TABELA DO OR\n",
        "print(\" x     | y     | x or y \")\n",
        "print(\"-------------------------\")\n",
        "print(\" True  | True  |\",True or True )\n",
        "print(\" True  | False |\",True or False )\n",
        "print(\" False | True  |\",False or True)\n",
        "print(\" False | False |\",False or False)"
      ],
      "execution_count": 26,
      "outputs": [
        {
          "output_type": "stream",
          "name": "stdout",
          "text": [
            " x     | y     | x or y \n",
            "-------------------------\n",
            " True  | True  | True\n",
            " True  | False | True\n",
            " False | True  | True\n",
            " False | False | False\n"
          ]
        }
      ]
    },
    {
      "cell_type": "code",
      "metadata": {
        "colab": {
          "base_uri": "https://localhost:8080/"
        },
        "id": "FQQv4OIId07n",
        "outputId": "ece9ba40-e094-49be-c7f9-b438afe63825"
      },
      "source": [
        "# TABELA DO XOR (EXCLUSIVE OR)\n",
        "print(\" x     | y     | x ^ y \")\n",
        "print(\"-------------------------\")\n",
        "print(\" True  | True  |\",True ^ True )\n",
        "print(\" True  | False |\",True ^ False )\n",
        "print(\" False | True  |\",False ^ True)\n",
        "print(\" False | False |\",False ^ False)"
      ],
      "execution_count": 27,
      "outputs": [
        {
          "output_type": "stream",
          "name": "stdout",
          "text": [
            " x     | y     | x ^ y \n",
            "-------------------------\n",
            " True  | True  | False\n",
            " True  | False | True\n",
            " False | True  | True\n",
            " False | False | False\n"
          ]
        }
      ]
    },
    {
      "cell_type": "code",
      "metadata": {
        "colab": {
          "base_uri": "https://localhost:8080/"
        },
        "id": "A0toLN4xd2wr",
        "outputId": "e9dc8312-7ba6-4a4e-ace3-abc9d4df826f"
      },
      "source": [
        "# TABELA DO NOT\n",
        "print(\" x     | not(x) \")\n",
        "print(\"----------------\")\n",
        "print(\" True  |\",not(True))\n",
        "print(\" False |\",not(False))"
      ],
      "execution_count": 28,
      "outputs": [
        {
          "output_type": "stream",
          "name": "stdout",
          "text": [
            " x     | not(x) \n",
            "----------------\n",
            " True  | False\n",
            " False | True\n"
          ]
        }
      ]
    },
    {
      "cell_type": "code",
      "metadata": {
        "colab": {
          "base_uri": "https://localhost:8080/"
        },
        "id": "bM973a37d47T",
        "outputId": "048956f3-8790-4139-a242-8d62d059e17b"
      },
      "source": [
        "# and, or, not,  ^\n",
        "x = 5\n",
        "\n",
        "a = x > 3\n",
        "b = x > 10\n",
        "r = a ^ b\n",
        "print(\"a = {}\".format(a))\n",
        "print(\"b = {}\".format(b))\n",
        "print(\"r = {}\".format(r))\n",
        "\n",
        "print(not(r))"
      ],
      "execution_count": 29,
      "outputs": [
        {
          "output_type": "stream",
          "name": "stdout",
          "text": [
            "a = True\n",
            "b = False\n",
            "r = True\n",
            "False\n"
          ]
        }
      ]
    },
    {
      "cell_type": "markdown",
      "metadata": {
        "id": "YBDYOpIEd8PV"
      },
      "source": [
        "# Operadores de identidade\n",
        "\n",
        "| Operador | Significado   | Exemplo                    |\n",
        "|:---|:---|:---|\n",
        "| is | Verifica se duas referências apontam para o mesmo objeto | a is b |\n",
        "| is not | Verifica se duas referências apontam para diferentes objetos | a is not b |"
      ]
    },
    {
      "cell_type": "code",
      "metadata": {
        "colab": {
          "base_uri": "https://localhost:8080/"
        },
        "id": "XEt02aLZeA0V",
        "outputId": "9f64087d-fd31-426f-817b-da7d31371e59"
      },
      "source": [
        "x = [\"apple\", \"banana\"]\n",
        "y = [\"apple\", \"banana\"]\n",
        "z = x\n",
        "\n",
        "print(x is z)\n",
        "\n",
        "print(x is y)\n",
        "\n",
        "print(x == y)"
      ],
      "execution_count": 30,
      "outputs": [
        {
          "output_type": "stream",
          "name": "stdout",
          "text": [
            "True\n",
            "False\n",
            "True\n"
          ]
        }
      ]
    },
    {
      "cell_type": "markdown",
      "metadata": {
        "id": "xXgVRvsUeEFM"
      },
      "source": [
        "# Condicionais - if"
      ]
    },
    {
      "cell_type": "code",
      "metadata": {
        "colab": {
          "base_uri": "https://localhost:8080/"
        },
        "id": "sm9OR7efeHxm",
        "outputId": "28c2124f-7b85-45d8-8b77-e2f51ccaf3bb"
      },
      "source": [
        "a = 33\n",
        "b = 200\n",
        "c = 250\n",
        "if b > a: \n",
        "    print(\"b é maior que a\") #observe a identação da linha\n",
        "\n",
        "if (b > a and b < c):\n",
        "    print('{} está entre {} e {}'.format(b,a,c))"
      ],
      "execution_count": 31,
      "outputs": [
        {
          "output_type": "stream",
          "name": "stdout",
          "text": [
            "b é maior que a\n",
            "200 está entre 33 e 250\n"
          ]
        }
      ]
    },
    {
      "cell_type": "markdown",
      "metadata": {
        "id": "8aT5smj5eMLK"
      },
      "source": [
        "# Condicionais - elif"
      ]
    },
    {
      "cell_type": "code",
      "metadata": {
        "colab": {
          "base_uri": "https://localhost:8080/"
        },
        "id": "M1i6hC-CeTcO",
        "outputId": "8b752019-403d-4808-f53c-40b8fae453a8"
      },
      "source": [
        "a = 33\n",
        "b = 33\n",
        "if (b > a):\n",
        "    print(\"b é maior que a\")\n",
        "elif (a == b):\n",
        "    print(\"a e b são iguais\")"
      ],
      "execution_count": 32,
      "outputs": [
        {
          "output_type": "stream",
          "name": "stdout",
          "text": [
            "a e b são iguais\n"
          ]
        }
      ]
    },
    {
      "cell_type": "markdown",
      "metadata": {
        "id": "sRI0cjCbeWVU"
      },
      "source": [
        "# Condicionais - else"
      ]
    },
    {
      "cell_type": "code",
      "metadata": {
        "colab": {
          "base_uri": "https://localhost:8080/"
        },
        "id": "yT39ZAmueaGg",
        "outputId": "d9e7d88c-0d0c-45a3-c2f1-3dfc2e14fe1f"
      },
      "source": [
        "a = 200\n",
        "b = 33\n",
        "if (b > a):\n",
        "    print(\"b é maior que a\")\n",
        "elif (a == b):\n",
        "    print(\"a e b são iguais\")\n",
        "else:\n",
        "    print(\"a é maior que b\")"
      ],
      "execution_count": 33,
      "outputs": [
        {
          "output_type": "stream",
          "name": "stdout",
          "text": [
            "a é maior que b\n"
          ]
        }
      ]
    },
    {
      "cell_type": "code",
      "metadata": {
        "colab": {
          "base_uri": "https://localhost:8080/"
        },
        "id": "GaM5bTknedAi",
        "outputId": "625f75a0-a37d-4a28-fc31-42b482ee352c"
      },
      "source": [
        "x = 9\n",
        "\n",
        "if (x > 10):\n",
        "    print(\"Acima de 10,\")\n",
        "    if (x > 20):\n",
        "        print(\"e também acima de 20!\")\n",
        "    else:\n",
        "        print(\"mas não acima de 20.\")\n",
        "else:\n",
        "    print(\"Abaixo de 10.\")"
      ],
      "execution_count": 34,
      "outputs": [
        {
          "output_type": "stream",
          "name": "stdout",
          "text": [
            "Abaixo de 10.\n"
          ]
        }
      ]
    },
    {
      "cell_type": "markdown",
      "metadata": {
        "id": "Dqa4fe5vekWy"
      },
      "source": [
        "# LOOPS"
      ]
    },
    {
      "cell_type": "markdown",
      "metadata": {
        "id": "pdCUdUQqegBe"
      },
      "source": [
        "# Repetição com while"
      ]
    },
    {
      "cell_type": "code",
      "metadata": {
        "colab": {
          "base_uri": "https://localhost:8080/"
        },
        "id": "jvKbI2Mren4U",
        "outputId": "1234e485-c7fb-4b38-a574-1431d333f138"
      },
      "source": [
        "i = 1\n",
        "while i < 6:\n",
        "    print(i)\n",
        "    i += 1"
      ],
      "execution_count": 35,
      "outputs": [
        {
          "output_type": "stream",
          "name": "stdout",
          "text": [
            "1\n",
            "2\n",
            "3\n",
            "4\n",
            "5\n"
          ]
        }
      ]
    },
    {
      "cell_type": "markdown",
      "metadata": {
        "id": "diqA-lGieq8A"
      },
      "source": [
        "# interrompendo o loop com a declaração 'break'"
      ]
    },
    {
      "cell_type": "code",
      "metadata": {
        "colab": {
          "base_uri": "https://localhost:8080/"
        },
        "id": "7czLe3NUet8T",
        "outputId": "01b3dd30-189f-4778-f0d6-f8ad88d75439"
      },
      "source": [
        "i = 1\n",
        "while i < 6:\n",
        "    print(i)\n",
        "    if i == 3:\n",
        "        break\n",
        "    i += 1"
      ],
      "execution_count": 36,
      "outputs": [
        {
          "output_type": "stream",
          "name": "stdout",
          "text": [
            "1\n",
            "2\n",
            "3\n"
          ]
        }
      ]
    },
    {
      "cell_type": "markdown",
      "metadata": {
        "id": "MauSYGauewcD"
      },
      "source": [
        "# Declaração 'continue'"
      ]
    },
    {
      "cell_type": "code",
      "metadata": {
        "colab": {
          "base_uri": "https://localhost:8080/"
        },
        "id": "WfDrQN4fezKf",
        "outputId": "80dbe528-255c-439b-ca78-11efbe2a1f83"
      },
      "source": [
        "i = 0\n",
        "while (i < 6):\n",
        "    i += 1\n",
        "    if (i == 3):\n",
        "        continue\n",
        "    print(i)"
      ],
      "execution_count": 37,
      "outputs": [
        {
          "output_type": "stream",
          "name": "stdout",
          "text": [
            "1\n",
            "2\n",
            "4\n",
            "5\n",
            "6\n"
          ]
        }
      ]
    },
    {
      "cell_type": "markdown",
      "metadata": {
        "id": "32ACFXQBe24q"
      },
      "source": [
        "# Declaração else (no loop!)"
      ]
    },
    {
      "cell_type": "code",
      "metadata": {
        "colab": {
          "base_uri": "https://localhost:8080/"
        },
        "id": "62ZCYafle7k6",
        "outputId": "4f711afc-1838-42bf-fa15-6ac9d9a2bcd6"
      },
      "source": [
        "i = 1\n",
        "while (i < 6):\n",
        "    print(i)\n",
        "    i += 1\n",
        "else:\n",
        "    print(\"i não é mais menor que 6\")"
      ],
      "execution_count": 38,
      "outputs": [
        {
          "output_type": "stream",
          "name": "stdout",
          "text": [
            "1\n",
            "2\n",
            "3\n",
            "4\n",
            "5\n",
            "i não é mais menor que 6\n"
          ]
        }
      ]
    },
    {
      "cell_type": "markdown",
      "metadata": {
        "id": "quOvR58Se_fe"
      },
      "source": [
        "# For loop\n",
        "O comando for, em Python, é usado para iterar sobre uma sequência (lista, tupla, conjunto, dicionário ou string)\n",
        "Funciona mais como um método iterador; não sendo, portanto, tão parecido com o comando for de outras linguagens de programação"
      ]
    },
    {
      "cell_type": "code",
      "metadata": {
        "colab": {
          "base_uri": "https://localhost:8080/"
        },
        "id": "7K1X5NODfF1H",
        "outputId": "ab10487b-ae59-4f10-e875-324ceb05d9b3"
      },
      "source": [
        "# breve introdução a listas em Python\n",
        "thislist = [\"apple\", \"banana\", \"cherry\"]\n",
        "print(thislist)"
      ],
      "execution_count": 39,
      "outputs": [
        {
          "output_type": "stream",
          "name": "stdout",
          "text": [
            "['apple', 'banana', 'cherry']\n"
          ]
        }
      ]
    },
    {
      "cell_type": "code",
      "metadata": {
        "colab": {
          "base_uri": "https://localhost:8080/"
        },
        "id": "WxmaBzwkfIzH",
        "outputId": "299a7296-c0fb-4984-882a-550b65d91f29"
      },
      "source": [
        "fruits = [\"apple\", \"banana\", \"cherry\"]\n",
        "for x in fruits:\n",
        "    print(x)"
      ],
      "execution_count": 40,
      "outputs": [
        {
          "output_type": "stream",
          "name": "stdout",
          "text": [
            "apple\n",
            "banana\n",
            "cherry\n"
          ]
        }
      ]
    },
    {
      "cell_type": "code",
      "metadata": {
        "colab": {
          "base_uri": "https://localhost:8080/"
        },
        "id": "11rgllzVfKYN",
        "outputId": "f251f7aa-865c-4e0d-f2c9-bc77e91f24ad"
      },
      "source": [
        "for x in \"banana\":\n",
        "    print(x)"
      ],
      "execution_count": 41,
      "outputs": [
        {
          "output_type": "stream",
          "name": "stdout",
          "text": [
            "b\n",
            "a\n",
            "n\n",
            "a\n",
            "n\n",
            "a\n"
          ]
        }
      ]
    },
    {
      "cell_type": "code",
      "metadata": {
        "colab": {
          "base_uri": "https://localhost:8080/"
        },
        "id": "NqlusXj7fMT1",
        "outputId": "f9b13217-c9e4-404e-c663-d1f55fee174a"
      },
      "source": [
        "for x in range(6):\n",
        "    print(x)"
      ],
      "execution_count": 42,
      "outputs": [
        {
          "output_type": "stream",
          "name": "stdout",
          "text": [
            "0\n",
            "1\n",
            "2\n",
            "3\n",
            "4\n",
            "5\n"
          ]
        }
      ]
    },
    {
      "cell_type": "code",
      "metadata": {
        "colab": {
          "base_uri": "https://localhost:8080/"
        },
        "id": "toLVuheSfOUN",
        "outputId": "7356c8b4-7f48-494d-ca65-783426186ae3"
      },
      "source": [
        "for x in range(2, 6):\n",
        "    print(x)"
      ],
      "execution_count": 43,
      "outputs": [
        {
          "output_type": "stream",
          "name": "stdout",
          "text": [
            "2\n",
            "3\n",
            "4\n",
            "5\n"
          ]
        }
      ]
    },
    {
      "cell_type": "code",
      "metadata": {
        "colab": {
          "base_uri": "https://localhost:8080/"
        },
        "id": "Gs4sBR7DfQJb",
        "outputId": "d6786216-aa58-4348-e1c3-4ad72da89dd4"
      },
      "source": [
        "for x in range(2, 30, 3):\n",
        "    print(x)"
      ],
      "execution_count": 44,
      "outputs": [
        {
          "output_type": "stream",
          "name": "stdout",
          "text": [
            "2\n",
            "5\n",
            "8\n",
            "11\n",
            "14\n",
            "17\n",
            "20\n",
            "23\n",
            "26\n",
            "29\n"
          ]
        }
      ]
    },
    {
      "cell_type": "code",
      "metadata": {
        "colab": {
          "base_uri": "https://localhost:8080/"
        },
        "id": "dc9hXJSJfR6d",
        "outputId": "f793dd91-ddee-4acb-9902-514399db2d18"
      },
      "source": [
        "for x in range(6):\n",
        "    print(x)\n",
        "else:\n",
        "    print(\"Terminou!\")"
      ],
      "execution_count": 45,
      "outputs": [
        {
          "output_type": "stream",
          "name": "stdout",
          "text": [
            "0\n",
            "1\n",
            "2\n",
            "3\n",
            "4\n",
            "5\n",
            "Terminou!\n"
          ]
        }
      ]
    },
    {
      "cell_type": "code",
      "metadata": {
        "colab": {
          "base_uri": "https://localhost:8080/"
        },
        "id": "7GfIDor5fTo4",
        "outputId": "25e45a19-1917-4448-a85b-5a83c778af6f"
      },
      "source": [
        "adj = [\"red\", \"big\", \"tasty\"]\n",
        "fruits = [\"apple\", \"banana\", \"cherry\"]\n",
        "\n",
        "for x in adj:\n",
        "    for y in fruits:\n",
        "        print(x, y)"
      ],
      "execution_count": 46,
      "outputs": [
        {
          "output_type": "stream",
          "name": "stdout",
          "text": [
            "red apple\n",
            "red banana\n",
            "red cherry\n",
            "big apple\n",
            "big banana\n",
            "big cherry\n",
            "tasty apple\n",
            "tasty banana\n",
            "tasty cherry\n"
          ]
        }
      ]
    },
    {
      "cell_type": "code",
      "metadata": {
        "colab": {
          "base_uri": "https://localhost:8080/"
        },
        "id": "rTx7NRO7fVN3",
        "outputId": "9679a9b0-5873-488d-ed49-4d655d099194"
      },
      "source": [
        "i = 0\n",
        "while(i<10):\n",
        "  print(i)\n",
        "  i+=0.5"
      ],
      "execution_count": 47,
      "outputs": [
        {
          "output_type": "stream",
          "name": "stdout",
          "text": [
            "0\n",
            "0.5\n",
            "1.0\n",
            "1.5\n",
            "2.0\n",
            "2.5\n",
            "3.0\n",
            "3.5\n",
            "4.0\n",
            "4.5\n",
            "5.0\n",
            "5.5\n",
            "6.0\n",
            "6.5\n",
            "7.0\n",
            "7.5\n",
            "8.0\n",
            "8.5\n",
            "9.0\n",
            "9.5\n"
          ]
        }
      ]
    },
    {
      "cell_type": "markdown",
      "metadata": {
        "id": "vOvPLEFGszGx"
      },
      "source": [
        "# Listas\n",
        "\n",
        "* Lista é uma coleção de elementos \n",
        "* Cada elemento possui uma posição dentro de uma lista. Essa posição é chamada índice\n",
        "* O primeiro elemento fica armazenado na posição *0*, enquanto o último elemento fica armazenado na posição *n-1* (onde *n* é a quantidade de elementos da lista)\n",
        "\n",
        "O que veremos nessa aula:\n",
        "\n",
        "1. Como criar uma lista\n",
        "2. Como acessar elementos de uma lista\n",
        "3. Como modificar elementos de uma lista\n",
        "4. Principais métodos de um objeto lista\n",
        "5. Funções aplicáveis a uma lista"
      ]
    },
    {
      "cell_type": "markdown",
      "metadata": {
        "id": "Cs4mbQMWs6tg"
      },
      "source": [
        "### 1. Como criar uma lista"
      ]
    },
    {
      "cell_type": "code",
      "metadata": {
        "id": "LLEAmq9fs1OS"
      },
      "source": [
        "# Criando uma lista vazia\n",
        "lista_vazia = []\n",
        "lista_vazia2 = list()"
      ],
      "execution_count": 2,
      "outputs": []
    },
    {
      "cell_type": "code",
      "metadata": {
        "colab": {
          "base_uri": "https://localhost:8080/"
        },
        "id": "RJ5zTm4hs__U",
        "outputId": "66de425f-32e3-4994-e11e-7c496531c9fa"
      },
      "source": [
        "# Visualizando o tipo\n",
        "type(lista_vazia)"
      ],
      "execution_count": 3,
      "outputs": [
        {
          "output_type": "execute_result",
          "data": {
            "text/plain": [
              "list"
            ]
          },
          "metadata": {},
          "execution_count": 3
        }
      ]
    },
    {
      "cell_type": "code",
      "metadata": {
        "colab": {
          "base_uri": "https://localhost:8080/"
        },
        "id": "0lkAuGQRtDRg",
        "outputId": "a36535c3-ac9c-46ad-d422-cfc19bad44b8"
      },
      "source": [
        "# Visualizando o tipo\n",
        "type(lista_vazia2)"
      ],
      "execution_count": 4,
      "outputs": [
        {
          "output_type": "execute_result",
          "data": {
            "text/plain": [
              "list"
            ]
          },
          "metadata": {},
          "execution_count": 4
        }
      ]
    },
    {
      "cell_type": "code",
      "metadata": {
        "colab": {
          "base_uri": "https://localhost:8080/"
        },
        "id": "MQ_zCFLvtFTw",
        "outputId": "85670d98-d87e-42a8-fd0e-ebfe29da9d5c"
      },
      "source": [
        "# Verificando o tamanho da lista\n",
        "len(lista_vazia) "
      ],
      "execution_count": 5,
      "outputs": [
        {
          "output_type": "execute_result",
          "data": {
            "text/plain": [
              "0"
            ]
          },
          "metadata": {},
          "execution_count": 5
        }
      ]
    },
    {
      "cell_type": "code",
      "metadata": {
        "id": "SqlNRNlItHnu"
      },
      "source": [
        "# Criando listas com elementos\n",
        "lista = [23, 56, 39, -3, 10, 2, 18, 0, 5]\n",
        "lista_reais = [1.5, -2.13, 5.14]\n",
        "lista_strings = [\"Toni\", \"Python\", \"CEFET MG\", \"Engenharia Elétrica\"]\n",
        "lista_booleanos = [True, True, False, True]\n",
        "lista_misturada = [1, 2, 3.14159, \"teste\"]\n",
        "lista_misturada2 = [1, 2, 3.14159, \"bláblá\", [1, \"A\", 1.0]]\n",
        "listas_aninhadas = [ [1, 2, 3], [4, 5, 6], [7, 8, 9]]"
      ],
      "execution_count": 6,
      "outputs": []
    },
    {
      "cell_type": "code",
      "metadata": {
        "colab": {
          "base_uri": "https://localhost:8080/"
        },
        "id": "92azI689tJYE",
        "outputId": "9adb78c1-1612-484d-a6cb-4414dda6b0ce"
      },
      "source": [
        "# Visualizando a lista\n",
        "lista"
      ],
      "execution_count": 7,
      "outputs": [
        {
          "output_type": "execute_result",
          "data": {
            "text/plain": [
              "[23, 56, 39, -3, 10, 2, 18, 0, 5]"
            ]
          },
          "metadata": {},
          "execution_count": 7
        }
      ]
    },
    {
      "cell_type": "code",
      "metadata": {
        "colab": {
          "base_uri": "https://localhost:8080/"
        },
        "id": "xJ7_0py1tl2J",
        "outputId": "c98a9924-8ab1-463a-a764-210f52a0ce51"
      },
      "source": [
        "lista_reais"
      ],
      "execution_count": 8,
      "outputs": [
        {
          "output_type": "execute_result",
          "data": {
            "text/plain": [
              "[1.5, -2.13, 5.14]"
            ]
          },
          "metadata": {},
          "execution_count": 8
        }
      ]
    },
    {
      "cell_type": "code",
      "metadata": {
        "colab": {
          "base_uri": "https://localhost:8080/"
        },
        "id": "CEDL7RnqtntM",
        "outputId": "1f7aa984-eca6-48c7-e715-350f83b07ad1"
      },
      "source": [
        "lista_strings"
      ],
      "execution_count": 9,
      "outputs": [
        {
          "output_type": "execute_result",
          "data": {
            "text/plain": [
              "['Toni', 'Python', 'CEFET MG', 'Engenharia Elétrica']"
            ]
          },
          "metadata": {},
          "execution_count": 9
        }
      ]
    },
    {
      "cell_type": "code",
      "metadata": {
        "colab": {
          "base_uri": "https://localhost:8080/"
        },
        "id": "JCmUfN4NtpYh",
        "outputId": "a851762b-73f3-4311-c221-5ee7a05b425a"
      },
      "source": [
        "lista_booleanos"
      ],
      "execution_count": 10,
      "outputs": [
        {
          "output_type": "execute_result",
          "data": {
            "text/plain": [
              "[True, True, False, True]"
            ]
          },
          "metadata": {},
          "execution_count": 10
        }
      ]
    },
    {
      "cell_type": "code",
      "metadata": {
        "colab": {
          "base_uri": "https://localhost:8080/"
        },
        "id": "WNweGNs7tsPw",
        "outputId": "bdbd3e2c-00b4-4b1e-e2ac-f03f447e9301"
      },
      "source": [
        "lista_misturada"
      ],
      "execution_count": 11,
      "outputs": [
        {
          "output_type": "execute_result",
          "data": {
            "text/plain": [
              "[1, 2, 3.14159, 'teste']"
            ]
          },
          "metadata": {},
          "execution_count": 11
        }
      ]
    },
    {
      "cell_type": "code",
      "metadata": {
        "colab": {
          "base_uri": "https://localhost:8080/"
        },
        "id": "axVwnYIutt3J",
        "outputId": "15e7fe03-b9f4-4aee-8d11-41eaac376aec"
      },
      "source": [
        "lista_misturada2"
      ],
      "execution_count": 12,
      "outputs": [
        {
          "output_type": "execute_result",
          "data": {
            "text/plain": [
              "[1, 2, 3.14159, 'bláblá', [1, 'A', 1.0]]"
            ]
          },
          "metadata": {},
          "execution_count": 12
        }
      ]
    },
    {
      "cell_type": "code",
      "metadata": {
        "colab": {
          "base_uri": "https://localhost:8080/"
        },
        "id": "5KdEV0qHtvkE",
        "outputId": "bb16fd86-11f0-450e-fbef-6c59f7375c5f"
      },
      "source": [
        "listas_aninhadas"
      ],
      "execution_count": 13,
      "outputs": [
        {
          "output_type": "execute_result",
          "data": {
            "text/plain": [
              "[[1, 2, 3], [4, 5, 6], [7, 8, 9]]"
            ]
          },
          "metadata": {},
          "execution_count": 13
        }
      ]
    },
    {
      "cell_type": "markdown",
      "metadata": {
        "id": "0cUHuKdjs_JQ"
      },
      "source": [
        "### 2. Como acessar elementos de uma lista"
      ]
    },
    {
      "cell_type": "code",
      "metadata": {
        "colab": {
          "base_uri": "https://localhost:8080/"
        },
        "id": "4Ue5DVKKt1yc",
        "outputId": "4677ec1e-1db3-4606-8f68-1e6a3846c9bc"
      },
      "source": [
        "# Acessando o índice 0 (primeira posição)\n",
        "lista[0]"
      ],
      "execution_count": 14,
      "outputs": [
        {
          "output_type": "execute_result",
          "data": {
            "text/plain": [
              "23"
            ]
          },
          "metadata": {},
          "execution_count": 14
        }
      ]
    },
    {
      "cell_type": "code",
      "metadata": {
        "colab": {
          "base_uri": "https://localhost:8080/"
        },
        "id": "bAylDlVqt3tq",
        "outputId": "a631677f-90ba-4b6c-c34d-7ccf65349555"
      },
      "source": [
        "lista"
      ],
      "execution_count": 15,
      "outputs": [
        {
          "output_type": "execute_result",
          "data": {
            "text/plain": [
              "[23, 56, 39, -3, 10, 2, 18, 0, 5]"
            ]
          },
          "metadata": {},
          "execution_count": 15
        }
      ]
    },
    {
      "cell_type": "code",
      "metadata": {
        "colab": {
          "base_uri": "https://localhost:8080/"
        },
        "id": "OdCW84qBt5WI",
        "outputId": "f511386e-172a-44ba-d58e-7d76c6bc53f8"
      },
      "source": [
        "# Acessando o índice 2 (terceira posição)\n",
        "lista[2]"
      ],
      "execution_count": 16,
      "outputs": [
        {
          "output_type": "execute_result",
          "data": {
            "text/plain": [
              "39"
            ]
          },
          "metadata": {},
          "execution_count": 16
        }
      ]
    },
    {
      "cell_type": "code",
      "metadata": {
        "colab": {
          "base_uri": "https://localhost:8080/"
        },
        "id": "iYQ6I1HTt6-i",
        "outputId": "3b93a016-c73f-4262-aa2a-d4ef4045aa65"
      },
      "source": [
        "# Acessando o índice 3 (quarta posição)\n",
        "print(lista_strings[3])"
      ],
      "execution_count": 17,
      "outputs": [
        {
          "output_type": "stream",
          "name": "stdout",
          "text": [
            "Engenharia Elétrica\n"
          ]
        }
      ]
    },
    {
      "cell_type": "code",
      "metadata": {
        "colab": {
          "base_uri": "https://localhost:8080/"
        },
        "id": "ou2hZeJct8en",
        "outputId": "d0641d95-1682-4c10-f0f9-deee7e9d51cf"
      },
      "source": [
        "lista_strings"
      ],
      "execution_count": 18,
      "outputs": [
        {
          "output_type": "execute_result",
          "data": {
            "text/plain": [
              "['Toni', 'Python', 'CEFET MG', 'Engenharia Elétrica']"
            ]
          },
          "metadata": {},
          "execution_count": 18
        }
      ]
    },
    {
      "cell_type": "code",
      "metadata": {
        "colab": {
          "base_uri": "https://localhost:8080/",
          "height": 35
        },
        "id": "xzMtP4tMt-Fj",
        "outputId": "62a50e7a-ef11-4c20-c2e3-5705a5f24b38"
      },
      "source": [
        "# Acessando o índice 3 (quarta posição)\n",
        "lista_misturada[3][2]"
      ],
      "execution_count": 19,
      "outputs": [
        {
          "output_type": "execute_result",
          "data": {
            "application/vnd.google.colaboratory.intrinsic+json": {
              "type": "string"
            },
            "text/plain": [
              "'s'"
            ]
          },
          "metadata": {},
          "execution_count": 19
        }
      ]
    },
    {
      "cell_type": "code",
      "metadata": {
        "colab": {
          "base_uri": "https://localhost:8080/"
        },
        "id": "qUEc4qo0uAxz",
        "outputId": "b520d186-3ff6-47f0-9f10-6763d1a7cfca"
      },
      "source": [
        "lista_misturada"
      ],
      "execution_count": 20,
      "outputs": [
        {
          "output_type": "execute_result",
          "data": {
            "text/plain": [
              "[1, 2, 3.14159, 'teste']"
            ]
          },
          "metadata": {},
          "execution_count": 20
        }
      ]
    },
    {
      "cell_type": "code",
      "metadata": {
        "colab": {
          "base_uri": "https://localhost:8080/",
          "height": 35
        },
        "id": "Qccrc6Y3uCbD",
        "outputId": "1171eda6-cf11-4b19-f526-b254c8a4a915"
      },
      "source": [
        "# Acessando o índice 4 nos foi retornado uma lista com 3 elementos. Agora queremos acessar o índice 1 dessa lista interna\n",
        "lista_misturada2[4][1]"
      ],
      "execution_count": 21,
      "outputs": [
        {
          "output_type": "execute_result",
          "data": {
            "application/vnd.google.colaboratory.intrinsic+json": {
              "type": "string"
            },
            "text/plain": [
              "'A'"
            ]
          },
          "metadata": {},
          "execution_count": 21
        }
      ]
    },
    {
      "cell_type": "code",
      "metadata": {
        "colab": {
          "base_uri": "https://localhost:8080/"
        },
        "id": "QaAEeIQw4cjB",
        "outputId": "0b33f19f-9383-4505-bc85-55bafae53b99"
      },
      "source": [
        "lista_misturada2"
      ],
      "execution_count": 34,
      "outputs": [
        {
          "output_type": "execute_result",
          "data": {
            "text/plain": [
              "[1, 2, True, 'bláblá', [1, 'A', 1.0]]"
            ]
          },
          "metadata": {},
          "execution_count": 34
        }
      ]
    },
    {
      "cell_type": "code",
      "metadata": {
        "colab": {
          "base_uri": "https://localhost:8080/",
          "height": 178
        },
        "id": "3RpuomLfuFLQ",
        "outputId": "e1e01297-ddef-4d98-84a7-656aa7749d9c"
      },
      "source": [
        "# Acessando um índice inexistente\n",
        "lista[20]"
      ],
      "execution_count": 23,
      "outputs": [
        {
          "output_type": "error",
          "ename": "IndexError",
          "evalue": "ignored",
          "traceback": [
            "\u001b[0;31m---------------------------------------------------------------------------\u001b[0m",
            "\u001b[0;31mIndexError\u001b[0m                                Traceback (most recent call last)",
            "\u001b[0;32m<ipython-input-23-155ee6d95b61>\u001b[0m in \u001b[0;36m<module>\u001b[0;34m()\u001b[0m\n\u001b[1;32m      1\u001b[0m \u001b[0;31m# Acessando um índice inexistente\u001b[0m\u001b[0;34m\u001b[0m\u001b[0;34m\u001b[0m\u001b[0;34m\u001b[0m\u001b[0m\n\u001b[0;32m----> 2\u001b[0;31m \u001b[0mlista\u001b[0m\u001b[0;34m[\u001b[0m\u001b[0;36m20\u001b[0m\u001b[0;34m]\u001b[0m\u001b[0;34m\u001b[0m\u001b[0;34m\u001b[0m\u001b[0m\n\u001b[0m",
            "\u001b[0;31mIndexError\u001b[0m: list index out of range"
          ]
        }
      ]
    },
    {
      "cell_type": "markdown",
      "metadata": {
        "id": "AKTiclOwuIKa"
      },
      "source": [
        "### 3. Como modificar elementos de uma lista"
      ]
    },
    {
      "cell_type": "code",
      "metadata": {
        "colab": {
          "base_uri": "https://localhost:8080/"
        },
        "id": "6PIQ3XTf2_ey",
        "outputId": "a86ab931-3593-4f7e-8416-4ab02b36359b"
      },
      "source": [
        "# Visualizando a lista\n",
        "lista"
      ],
      "execution_count": 27,
      "outputs": [
        {
          "output_type": "execute_result",
          "data": {
            "text/plain": [
              "[23, 56, 39, -3, 10, 2, 18, 0, 5]"
            ]
          },
          "metadata": {},
          "execution_count": 27
        }
      ]
    },
    {
      "cell_type": "code",
      "metadata": {
        "id": "7ctdpAj52_8L"
      },
      "source": [
        "# Alterando o elemento do índice 1 de 56 para 18\n",
        "lista[1] = 18"
      ],
      "execution_count": 28,
      "outputs": []
    },
    {
      "cell_type": "code",
      "metadata": {
        "colab": {
          "base_uri": "https://localhost:8080/"
        },
        "id": "AWhWZTnv3AKb",
        "outputId": "74a50d4c-71e6-43cb-9bcf-1176958aa8dd"
      },
      "source": [
        "# Visualizando a alteração realizada\n",
        "lista"
      ],
      "execution_count": 29,
      "outputs": [
        {
          "output_type": "execute_result",
          "data": {
            "text/plain": [
              "[23, 18, 39, -3, 10, 2, 18, 0, 5]"
            ]
          },
          "metadata": {},
          "execution_count": 29
        }
      ]
    },
    {
      "cell_type": "code",
      "metadata": {
        "id": "vgnNM7L53AYG"
      },
      "source": [
        "# Modificando o elemento do índice 3 de -3 para 15\n",
        "lista[3] = 15"
      ],
      "execution_count": 30,
      "outputs": []
    },
    {
      "cell_type": "code",
      "metadata": {
        "colab": {
          "base_uri": "https://localhost:8080/"
        },
        "id": "IHuiGN5H3Aoe",
        "outputId": "98652239-849b-44f9-85ec-9badd9bad7d2"
      },
      "source": [
        "# Visualizando a alteração realizada\n",
        "lista"
      ],
      "execution_count": 31,
      "outputs": [
        {
          "output_type": "execute_result",
          "data": {
            "text/plain": [
              "[23, 18, 39, 15, 10, 2, 18, 0, 5]"
            ]
          },
          "metadata": {},
          "execution_count": 31
        }
      ]
    },
    {
      "cell_type": "code",
      "metadata": {
        "id": "Vv4t3qw23E0c"
      },
      "source": [
        "# Modificando o elemento do índice 2. Ele recebe a soma dos dois elementos anteriores\n",
        "lista[2] = lista[0] + lista[1]"
      ],
      "execution_count": 32,
      "outputs": []
    },
    {
      "cell_type": "code",
      "metadata": {
        "colab": {
          "base_uri": "https://localhost:8080/"
        },
        "id": "kz1itNr-3Fbg",
        "outputId": "9d06add2-6472-4596-c9d7-78280072cad4"
      },
      "source": [
        "# Visualizando a alteração realizada\n",
        "lista"
      ],
      "execution_count": 33,
      "outputs": [
        {
          "output_type": "execute_result",
          "data": {
            "text/plain": [
              "[23, 18, 41, 15, 10, 2, 18, 0, 5]"
            ]
          },
          "metadata": {},
          "execution_count": 33
        }
      ]
    },
    {
      "cell_type": "code",
      "metadata": {
        "colab": {
          "base_uri": "https://localhost:8080/"
        },
        "id": "aLY_Bxnw4gnD",
        "outputId": "44e86d1f-aaff-48d3-f084-c72350f3d41c"
      },
      "source": [
        "lista_misturada2"
      ],
      "execution_count": 35,
      "outputs": [
        {
          "output_type": "execute_result",
          "data": {
            "text/plain": [
              "[1, 2, True, 'bláblá', [1, 'A', 1.0]]"
            ]
          },
          "metadata": {},
          "execution_count": 35
        }
      ]
    },
    {
      "cell_type": "code",
      "metadata": {
        "id": "mb02RNnK4jq2"
      },
      "source": [
        "lista_misturada2[4][1] = 'B'"
      ],
      "execution_count": 36,
      "outputs": []
    },
    {
      "cell_type": "code",
      "metadata": {
        "colab": {
          "base_uri": "https://localhost:8080/"
        },
        "id": "bfj9XKmH4our",
        "outputId": "5efe13b2-653d-4878-acbe-12e645dc0d88"
      },
      "source": [
        "lista_misturada2"
      ],
      "execution_count": 37,
      "outputs": [
        {
          "output_type": "execute_result",
          "data": {
            "text/plain": [
              "[1, 2, True, 'bláblá', [1, 'B', 1.0]]"
            ]
          },
          "metadata": {},
          "execution_count": 37
        }
      ]
    },
    {
      "cell_type": "code",
      "metadata": {
        "id": "H3HNTNIe4rn4"
      },
      "source": [
        "lista_misturada2[2] = True"
      ],
      "execution_count": null,
      "outputs": []
    },
    {
      "cell_type": "code",
      "metadata": {
        "colab": {
          "base_uri": "https://localhost:8080/"
        },
        "id": "IliNDED24w1i",
        "outputId": "e08cf916-3d9e-4e3d-c11d-9303ef7e2151"
      },
      "source": [
        "lista_misturada2"
      ],
      "execution_count": 38,
      "outputs": [
        {
          "output_type": "execute_result",
          "data": {
            "text/plain": [
              "[1, 2, True, 'bláblá', [1, 'B', 1.0]]"
            ]
          },
          "metadata": {},
          "execution_count": 38
        }
      ]
    },
    {
      "cell_type": "code",
      "metadata": {
        "id": "xeb0s0dO41NL"
      },
      "source": [
        "lista_misturada3 = [1,False, -2.5, (1,2,3,4)]"
      ],
      "execution_count": 40,
      "outputs": []
    },
    {
      "cell_type": "code",
      "metadata": {
        "colab": {
          "base_uri": "https://localhost:8080/"
        },
        "id": "tkP3Q9nj4_mU",
        "outputId": "572f5a73-2619-46e8-9415-ba7d7b880db4"
      },
      "source": [
        "lista_misturada3"
      ],
      "execution_count": 41,
      "outputs": [
        {
          "output_type": "execute_result",
          "data": {
            "text/plain": [
              "[1, False, -2.5, (1, 2, 3, 4)]"
            ]
          },
          "metadata": {},
          "execution_count": 41
        }
      ]
    },
    {
      "cell_type": "code",
      "metadata": {
        "colab": {
          "base_uri": "https://localhost:8080/"
        },
        "id": "cXim3N_l5BxP",
        "outputId": "0e59411f-5c4b-4e31-feb8-9224551ee102"
      },
      "source": [
        "type(lista_misturada3)"
      ],
      "execution_count": 43,
      "outputs": [
        {
          "output_type": "execute_result",
          "data": {
            "text/plain": [
              "list"
            ]
          },
          "metadata": {},
          "execution_count": 43
        }
      ]
    },
    {
      "cell_type": "code",
      "metadata": {
        "colab": {
          "base_uri": "https://localhost:8080/"
        },
        "id": "njkhFcUX5NSI",
        "outputId": "257780fb-1512-4164-b432-2a4cf94e8f7f"
      },
      "source": [
        "type(lista_misturada3[3])"
      ],
      "execution_count": 44,
      "outputs": [
        {
          "output_type": "execute_result",
          "data": {
            "text/plain": [
              "tuple"
            ]
          },
          "metadata": {},
          "execution_count": 44
        }
      ]
    },
    {
      "cell_type": "code",
      "metadata": {
        "colab": {
          "base_uri": "https://localhost:8080/",
          "height": 162
        },
        "id": "lxdLHaHn5SLX",
        "outputId": "3cf0a3a9-6682-4a79-cf20-524eca092f0a"
      },
      "source": [
        "lista_misturada3[3][1] = 'a' #gera um erro pois não podemos modificar o tipo tuple"
      ],
      "execution_count": 45,
      "outputs": [
        {
          "output_type": "error",
          "ename": "TypeError",
          "evalue": "ignored",
          "traceback": [
            "\u001b[0;31m---------------------------------------------------------------------------\u001b[0m",
            "\u001b[0;31mTypeError\u001b[0m                                 Traceback (most recent call last)",
            "\u001b[0;32m<ipython-input-45-18f420160dcf>\u001b[0m in \u001b[0;36m<module>\u001b[0;34m()\u001b[0m\n\u001b[0;32m----> 1\u001b[0;31m \u001b[0mlista_misturada3\u001b[0m\u001b[0;34m[\u001b[0m\u001b[0;36m3\u001b[0m\u001b[0;34m]\u001b[0m\u001b[0;34m[\u001b[0m\u001b[0;36m1\u001b[0m\u001b[0;34m]\u001b[0m \u001b[0;34m=\u001b[0m \u001b[0;34m'a'\u001b[0m\u001b[0;34m\u001b[0m\u001b[0;34m\u001b[0m\u001b[0m\n\u001b[0m",
            "\u001b[0;31mTypeError\u001b[0m: 'tuple' object does not support item assignment"
          ]
        }
      ]
    },
    {
      "cell_type": "markdown",
      "metadata": {
        "id": "inr_1C9YuPv1"
      },
      "source": [
        "### 4. Principais métodos de um objeto lista\n",
        "\n",
        "Método | Descrição | Exemplo\n",
        ":----- | :-------- | :------\n",
        "append | Adiciona um elemento no final da lista | `lista.append(5)`\n",
        "clear  | Apaga todos os elementos de uma lista | `lista.clear()`\n",
        "copy | Retorna uma cópia dos elementos da lista | `copia = lista.copy()`\n",
        "count | Retorna a quantidade de ocorrências de um elemento na lista | `qt = lista.count(5)`\n",
        "extend | Adiciona os elementos de outra lista passada por parâmetro | `lista.extend(outra_lista)`\n",
        "index | Retorna o índice do elemento passado por parâmetro (primeira posição) | `pos5 = lista.index(5)`\n",
        "insert | Adiciona um elemento em uma posição passada por parâmetro (adiciona no final caso a posição não exista)| `lista.insert(3, \"João\")`\n",
        "pop | Remove o elemento na posição passada por parâmetro (provoca um erro caso a posição não exista)| `elemento = lista.pop(3)`\n",
        "remove | Remove o elemento passado por parâmetro (provoca um erro caso o elemento não exista)| `lista.remove(5)`\n",
        "reverse | Inverte a ordem dos elementos de uma lista | `lista.reverse()`\n",
        "sort | Ordena os objetos de uma lista | `lista.sort()`\n",
        " | | `lista.sort(reverse=True)`"
      ]
    },
    {
      "cell_type": "markdown",
      "metadata": {
        "id": "OFujzLEo6BD1"
      },
      "source": [
        "#### 4.1 - append()"
      ]
    },
    {
      "cell_type": "code",
      "metadata": {
        "colab": {
          "base_uri": "https://localhost:8080/"
        },
        "id": "UNyC3RG45qg0",
        "outputId": "4813c117-0f8d-446d-839e-810d79f9b921"
      },
      "source": [
        "# Visualizando a lista antes da chamada ao método append()\n",
        "print(lista)\n",
        "print(len(lista))"
      ],
      "execution_count": 63,
      "outputs": [
        {
          "output_type": "stream",
          "name": "stdout",
          "text": [
            "[23, 18, 41, 15, 10, 2, 18, 0, 5, 17]\n",
            "10\n"
          ]
        }
      ]
    },
    {
      "cell_type": "code",
      "metadata": {
        "id": "G3XHQyMT5q8j"
      },
      "source": [
        "# Adicionado o 17 no final da lista\n",
        "lista.append(17)"
      ],
      "execution_count": 64,
      "outputs": []
    },
    {
      "cell_type": "code",
      "metadata": {
        "colab": {
          "base_uri": "https://localhost:8080/"
        },
        "id": "R-8ZWncL5rIX",
        "outputId": "56112fb2-914c-4637-87d0-e53630d8ad5b"
      },
      "source": [
        "# Visualizando a lista após chamada ao método append()\n",
        "print(lista)\n",
        "print(len(lista))"
      ],
      "execution_count": 65,
      "outputs": [
        {
          "output_type": "stream",
          "name": "stdout",
          "text": [
            "[23, 18, 41, 15, 10, 2, 18, 0, 5, 17, 17]\n",
            "11\n"
          ]
        }
      ]
    },
    {
      "cell_type": "markdown",
      "metadata": {
        "id": "bn-WhFxK6Dwm"
      },
      "source": [
        "#### 4.2 - clear()"
      ]
    },
    {
      "cell_type": "code",
      "metadata": {
        "colab": {
          "base_uri": "https://localhost:8080/"
        },
        "id": "z3682DGk5rUF",
        "outputId": "99e94c71-62e6-4aea-8d56-1c6c886f64f1"
      },
      "source": [
        "# Visualizando lista_reais antes da chamada ao método clear()\n",
        "lista_reais"
      ],
      "execution_count": 66,
      "outputs": [
        {
          "output_type": "execute_result",
          "data": {
            "text/plain": [
              "[1.5, -2.13, 5.14]"
            ]
          },
          "metadata": {},
          "execution_count": 66
        }
      ]
    },
    {
      "cell_type": "code",
      "metadata": {
        "id": "x1RIiIov5rfW"
      },
      "source": [
        "# Removendo todos os elementos de lista_reais\n",
        "lista_reais.clear()"
      ],
      "execution_count": 67,
      "outputs": []
    },
    {
      "cell_type": "code",
      "metadata": {
        "colab": {
          "base_uri": "https://localhost:8080/"
        },
        "id": "8haSNlae5rrX",
        "outputId": "b3ab9f42-a82d-48ee-d2e9-f8fdf1868ddb"
      },
      "source": [
        "# Visualizando lista_reais após chamada ao método clear()\n",
        "lista_reais"
      ],
      "execution_count": 68,
      "outputs": [
        {
          "output_type": "execute_result",
          "data": {
            "text/plain": [
              "[]"
            ]
          },
          "metadata": {},
          "execution_count": 68
        }
      ]
    },
    {
      "cell_type": "markdown",
      "metadata": {
        "id": "miQPa52I6Wa9"
      },
      "source": [
        "### 4.3 - copy()"
      ]
    },
    {
      "cell_type": "code",
      "metadata": {
        "id": "nDZCH6NZ5r2p"
      },
      "source": [
        "# Copiando uma lista para outra?\n",
        "copia = lista"
      ],
      "execution_count": 69,
      "outputs": []
    },
    {
      "cell_type": "code",
      "metadata": {
        "colab": {
          "base_uri": "https://localhost:8080/"
        },
        "id": "N5mqdiDD5sCk",
        "outputId": "769c6bd0-0e22-483b-fc46-415320b740d9"
      },
      "source": [
        "# Visualizando o conteúdo de copia\n",
        "copia"
      ],
      "execution_count": 70,
      "outputs": [
        {
          "output_type": "execute_result",
          "data": {
            "text/plain": [
              "[23, 18, 41, 15, 10, 2, 18, 0, 5, 17, 17]"
            ]
          },
          "metadata": {},
          "execution_count": 70
        }
      ]
    },
    {
      "cell_type": "code",
      "metadata": {
        "id": "jcQP2VDn5sNm"
      },
      "source": [
        "# Alterando o elemento do índice 0 de 23 para 5\n",
        "copia[0] = 5"
      ],
      "execution_count": 71,
      "outputs": []
    },
    {
      "cell_type": "code",
      "metadata": {
        "colab": {
          "base_uri": "https://localhost:8080/"
        },
        "id": "hrNrOrfz6gOm",
        "outputId": "90275252-fc01-4c7b-afe1-26a29aada762"
      },
      "source": [
        "# Visualizando o conteúdo de copia\n",
        "copia"
      ],
      "execution_count": 72,
      "outputs": [
        {
          "output_type": "execute_result",
          "data": {
            "text/plain": [
              "[5, 18, 41, 15, 10, 2, 18, 0, 5, 17, 17]"
            ]
          },
          "metadata": {},
          "execution_count": 72
        }
      ]
    },
    {
      "cell_type": "code",
      "metadata": {
        "colab": {
          "base_uri": "https://localhost:8080/"
        },
        "id": "wuvXVuJI6ggN",
        "outputId": "443e4557-22a8-42f8-a061-ccfb3fba8911"
      },
      "source": [
        "# Visualizando o conteúdo de lista (Perceba que o elemento 23 também foi alterado na lista, e não apenas em copia)\n",
        "lista"
      ],
      "execution_count": 73,
      "outputs": [
        {
          "output_type": "execute_result",
          "data": {
            "text/plain": [
              "[5, 18, 41, 15, 10, 2, 18, 0, 5, 17, 17]"
            ]
          },
          "metadata": {},
          "execution_count": 73
        }
      ]
    },
    {
      "cell_type": "code",
      "metadata": {
        "colab": {
          "base_uri": "https://localhost:8080/"
        },
        "id": "3UQ_4nQv6gwj",
        "outputId": "b8fbdf2c-501a-4465-90d4-93cdbfa27fd4"
      },
      "source": [
        "# Desfazendo a alteração no índice 0, modificando de 5 para 23\n",
        "lista[0] = 23\n",
        "lista"
      ],
      "execution_count": 74,
      "outputs": [
        {
          "output_type": "execute_result",
          "data": {
            "text/plain": [
              "[23, 18, 41, 15, 10, 2, 18, 0, 5, 17, 17]"
            ]
          },
          "metadata": {},
          "execution_count": 74
        }
      ]
    },
    {
      "cell_type": "code",
      "metadata": {
        "id": "aKJ642fI6lZB"
      },
      "source": [
        "# A maneira correta de copiar uma lista para outra é através da chamada ao método copy()\n",
        "copia = lista.copy()"
      ],
      "execution_count": 75,
      "outputs": []
    },
    {
      "cell_type": "code",
      "metadata": {
        "colab": {
          "base_uri": "https://localhost:8080/"
        },
        "id": "Uj2k4Vp96lit",
        "outputId": "9eb7a90b-e6d4-465b-cafa-aaf6657144ea"
      },
      "source": [
        "# Visualizando o conteúdo de lista\n",
        "lista"
      ],
      "execution_count": 76,
      "outputs": [
        {
          "output_type": "execute_result",
          "data": {
            "text/plain": [
              "[23, 18, 41, 15, 10, 2, 18, 0, 5, 17, 17]"
            ]
          },
          "metadata": {},
          "execution_count": 76
        }
      ]
    },
    {
      "cell_type": "code",
      "metadata": {
        "colab": {
          "base_uri": "https://localhost:8080/"
        },
        "id": "70cBzIeA6lrx",
        "outputId": "4628ffd0-5f9f-4874-f7d2-9aaea11df157"
      },
      "source": [
        "# Visualizando o conteúdo de copia\n",
        "copia"
      ],
      "execution_count": 77,
      "outputs": [
        {
          "output_type": "execute_result",
          "data": {
            "text/plain": [
              "[23, 18, 41, 15, 10, 2, 18, 0, 5, 17, 17]"
            ]
          },
          "metadata": {},
          "execution_count": 77
        }
      ]
    },
    {
      "cell_type": "code",
      "metadata": {
        "id": "BEKBGBlG6pyU"
      },
      "source": [
        "# Alterando o elemento do índice 0 de 23 para 5\n",
        "copia[0] = 5"
      ],
      "execution_count": 78,
      "outputs": []
    },
    {
      "cell_type": "code",
      "metadata": {
        "colab": {
          "base_uri": "https://localhost:8080/"
        },
        "id": "GxEb-v2z7LCu",
        "outputId": "7246c586-92c7-4fe1-a9fa-aa3ee19f30f7"
      },
      "source": [
        "# Visualizando o conteúdo de lista\n",
        "lista"
      ],
      "execution_count": 79,
      "outputs": [
        {
          "output_type": "execute_result",
          "data": {
            "text/plain": [
              "[23, 18, 41, 15, 10, 2, 18, 0, 5, 17, 17]"
            ]
          },
          "metadata": {},
          "execution_count": 79
        }
      ]
    },
    {
      "cell_type": "code",
      "metadata": {
        "colab": {
          "base_uri": "https://localhost:8080/"
        },
        "id": "2vAucKGJ7Mv6",
        "outputId": "27af3885-5fa9-4b58-e9c6-b4c995bbe017"
      },
      "source": [
        "# Visualizando o conteúdo de lista - Agora sim, apenas o índice 0 de copia foi alterado\n",
        "copia"
      ],
      "execution_count": 80,
      "outputs": [
        {
          "output_type": "execute_result",
          "data": {
            "text/plain": [
              "[5, 18, 41, 15, 10, 2, 18, 0, 5, 17, 17]"
            ]
          },
          "metadata": {},
          "execution_count": 80
        }
      ]
    },
    {
      "cell_type": "markdown",
      "metadata": {
        "id": "XDnZQgRz7PTs"
      },
      "source": [
        "###4.4 - count()"
      ]
    },
    {
      "cell_type": "code",
      "metadata": {
        "colab": {
          "base_uri": "https://localhost:8080/"
        },
        "id": "jlqbqZ027UIe",
        "outputId": "f886bfec-e181-4bd5-d9df-7fa8f3b7becd"
      },
      "source": [
        "# Verificando quantas vezes o número 5 aparece em copia\n",
        "copia.count(5)"
      ],
      "execution_count": 82,
      "outputs": [
        {
          "output_type": "execute_result",
          "data": {
            "text/plain": [
              "2"
            ]
          },
          "metadata": {},
          "execution_count": 82
        }
      ]
    },
    {
      "cell_type": "markdown",
      "metadata": {
        "id": "F5yFark37l5U"
      },
      "source": [
        "###4.5 - extend()"
      ]
    },
    {
      "cell_type": "code",
      "metadata": {
        "id": "hbZeswTc7scN"
      },
      "source": [
        "# Suponha que temos uma lista chamada numeros que contém os elementos [1, 2, 3]\n",
        "numeros = [1, 2, 3] "
      ],
      "execution_count": 83,
      "outputs": []
    },
    {
      "cell_type": "code",
      "metadata": {
        "id": "cDVyTJ_e7ssk"
      },
      "source": [
        "# Queremos adicionar os elementos [4, 5] à lista números e usamos o método append()\n",
        "numeros.append([4,5])"
      ],
      "execution_count": 84,
      "outputs": []
    },
    {
      "cell_type": "code",
      "metadata": {
        "colab": {
          "base_uri": "https://localhost:8080/"
        },
        "id": "WvvsYhIC7s6i",
        "outputId": "a1edaac1-830a-41cf-a08c-61c1b46e7fd8"
      },
      "source": [
        "# Ao invés de adicionarmos os elementos 4 e 5, adicionar uma lista contendo os elementos [4, 5]\n",
        "numeros"
      ],
      "execution_count": 85,
      "outputs": [
        {
          "output_type": "execute_result",
          "data": {
            "text/plain": [
              "[1, 2, 3, [4, 5]]"
            ]
          },
          "metadata": {},
          "execution_count": 85
        }
      ]
    },
    {
      "cell_type": "code",
      "metadata": {
        "colab": {
          "base_uri": "https://localhost:8080/"
        },
        "id": "EthwMtuZ7xSW",
        "outputId": "4584b0b6-18be-41d6-f5a5-9b2cd1c7a55b"
      },
      "source": [
        "# A maneira correta de adicionar novos elementos de uma lista, a partir de outra lista, é através do método extend()\n",
        "numeros = [1, 2, 3]\n",
        "numeros.extend([4,5])\n",
        "numeros"
      ],
      "execution_count": 86,
      "outputs": [
        {
          "output_type": "execute_result",
          "data": {
            "text/plain": [
              "[1, 2, 3, 4, 5]"
            ]
          },
          "metadata": {},
          "execution_count": 86
        }
      ]
    },
    {
      "cell_type": "markdown",
      "metadata": {
        "id": "aA3EgL7H70uP"
      },
      "source": [
        "###4.6 - index()"
      ]
    },
    {
      "cell_type": "code",
      "metadata": {
        "colab": {
          "base_uri": "https://localhost:8080/"
        },
        "id": "MgXGxFoR76bY",
        "outputId": "b5c93980-0098-4949-a6c3-9a7231cdc662"
      },
      "source": [
        "# Redefinindo os elementos da lista\n",
        "lista = [1, 3, 7, 2, 3, 8, 4]\n",
        "lista"
      ],
      "execution_count": 87,
      "outputs": [
        {
          "output_type": "execute_result",
          "data": {
            "text/plain": [
              "[1, 3, 7, 2, 3, 8, 4]"
            ]
          },
          "metadata": {},
          "execution_count": 87
        }
      ]
    },
    {
      "cell_type": "code",
      "metadata": {
        "colab": {
          "base_uri": "https://localhost:8080/"
        },
        "id": "DQ1oqJUS76ld",
        "outputId": "a1afa53c-35a6-4323-9593-c8a248a59f11"
      },
      "source": [
        "# O método index nos permite saber em que posição determinado elemento está armazenado\n",
        "lista.index(7)"
      ],
      "execution_count": 88,
      "outputs": [
        {
          "output_type": "execute_result",
          "data": {
            "text/plain": [
              "2"
            ]
          },
          "metadata": {},
          "execution_count": 88
        }
      ]
    },
    {
      "cell_type": "code",
      "metadata": {
        "id": "yNBWH-Xx76uA"
      },
      "source": [
        "# Podemos guardar esse valor em uma variável\n",
        "posicao8 = lista.index(8)"
      ],
      "execution_count": 89,
      "outputs": []
    },
    {
      "cell_type": "code",
      "metadata": {
        "colab": {
          "base_uri": "https://localhost:8080/"
        },
        "id": "vi4xM2iJ8DGs",
        "outputId": "20c52776-5a81-47e3-a303-37695aa83812"
      },
      "source": [
        "posicao8"
      ],
      "execution_count": 90,
      "outputs": [
        {
          "output_type": "execute_result",
          "data": {
            "text/plain": [
              "5"
            ]
          },
          "metadata": {},
          "execution_count": 90
        }
      ]
    },
    {
      "cell_type": "code",
      "metadata": {
        "id": "4a78fWzY8BGh"
      },
      "source": [
        "# O método index() retorna a posição da primeira ocorrência do elemento procurado. \n",
        "posicao3 = lista.index(3)"
      ],
      "execution_count": 91,
      "outputs": []
    },
    {
      "cell_type": "code",
      "metadata": {
        "colab": {
          "base_uri": "https://localhost:8080/"
        },
        "id": "H3QAMr7C8GKP",
        "outputId": "b36c320d-d1ab-49c3-d63f-1e29b8053dde"
      },
      "source": [
        "posicao3"
      ],
      "execution_count": 92,
      "outputs": [
        {
          "output_type": "execute_result",
          "data": {
            "text/plain": [
              "1"
            ]
          },
          "metadata": {},
          "execution_count": 92
        }
      ]
    },
    {
      "cell_type": "code",
      "metadata": {
        "colab": {
          "base_uri": "https://localhost:8080/",
          "height": 178
        },
        "id": "clHr891q8GT8",
        "outputId": "10af673b-a0f2-4371-f7e7-af4af6dc708c"
      },
      "source": [
        "# Caso o elemento não exista, ocorre um erro\n",
        "lista.index(19)"
      ],
      "execution_count": 93,
      "outputs": [
        {
          "output_type": "error",
          "ename": "ValueError",
          "evalue": "ignored",
          "traceback": [
            "\u001b[0;31m---------------------------------------------------------------------------\u001b[0m",
            "\u001b[0;31mValueError\u001b[0m                                Traceback (most recent call last)",
            "\u001b[0;32m<ipython-input-93-74495dc8a4ff>\u001b[0m in \u001b[0;36m<module>\u001b[0;34m()\u001b[0m\n\u001b[1;32m      1\u001b[0m \u001b[0;31m# Caso o elemento não exista, ocorre um erro\u001b[0m\u001b[0;34m\u001b[0m\u001b[0;34m\u001b[0m\u001b[0;34m\u001b[0m\u001b[0m\n\u001b[0;32m----> 2\u001b[0;31m \u001b[0mlista\u001b[0m\u001b[0;34m.\u001b[0m\u001b[0mindex\u001b[0m\u001b[0;34m(\u001b[0m\u001b[0;36m19\u001b[0m\u001b[0;34m)\u001b[0m\u001b[0;34m\u001b[0m\u001b[0;34m\u001b[0m\u001b[0m\n\u001b[0m",
            "\u001b[0;31mValueError\u001b[0m: 19 is not in list"
          ]
        }
      ]
    },
    {
      "cell_type": "markdown",
      "metadata": {
        "id": "u0atpAh58Ovd"
      },
      "source": [
        "###4.7 - insert()"
      ]
    },
    {
      "cell_type": "code",
      "metadata": {
        "colab": {
          "base_uri": "https://localhost:8080/"
        },
        "id": "29rdsEIK8GdI",
        "outputId": "24f71731-5580-423d-c285-36ea0771c17f"
      },
      "source": [
        "lista"
      ],
      "execution_count": 94,
      "outputs": [
        {
          "output_type": "execute_result",
          "data": {
            "text/plain": [
              "[1, 3, 7, 2, 3, 8, 4]"
            ]
          },
          "metadata": {},
          "execution_count": 94
        }
      ]
    },
    {
      "cell_type": "code",
      "metadata": {
        "colab": {
          "base_uri": "https://localhost:8080/"
        },
        "id": "jMQkVK528TIx",
        "outputId": "1885a1e5-d0e3-4ac1-abbe-8509c1c87278"
      },
      "source": [
        "# O método insert() permite adicionar um elemento em qualquer posição da lista. \n",
        "# Caso a posição não exista, ele insere o elemento desejado na última posição\n",
        "lista.insert(2, \"ABC\")\n",
        "lista"
      ],
      "execution_count": 95,
      "outputs": [
        {
          "output_type": "execute_result",
          "data": {
            "text/plain": [
              "[1, 3, 'ABC', 7, 2, 3, 8, 4]"
            ]
          },
          "metadata": {},
          "execution_count": 95
        }
      ]
    },
    {
      "cell_type": "code",
      "metadata": {
        "colab": {
          "base_uri": "https://localhost:8080/"
        },
        "id": "MlYH7XuI8VLI",
        "outputId": "a446b39a-f5ae-4fab-889b-2ea7eb9d6dfe"
      },
      "source": [
        "lista.insert(100, \"XYZ\")\n",
        "lista"
      ],
      "execution_count": 96,
      "outputs": [
        {
          "output_type": "execute_result",
          "data": {
            "text/plain": [
              "[1, 3, 'ABC', 7, 2, 3, 8, 4, 'XYZ']"
            ]
          },
          "metadata": {},
          "execution_count": 96
        }
      ]
    },
    {
      "cell_type": "markdown",
      "metadata": {
        "id": "qido51Zu8Zjv"
      },
      "source": [
        "###4.8 - pop()"
      ]
    },
    {
      "cell_type": "code",
      "metadata": {
        "colab": {
          "base_uri": "https://localhost:8080/",
          "height": 35
        },
        "id": "FfU0Xvp58eEt",
        "outputId": "a64e0201-b5b4-4404-a80d-aba7e5dab7e1"
      },
      "source": [
        "# Utilizamos o método pop() quando desejamos apagar uma posição da lista\n",
        "# Removendo o elemento no índice 2\n",
        "valor = lista.pop(2)\n",
        "# Visualizando o valor retornado\n",
        "valor"
      ],
      "execution_count": 97,
      "outputs": [
        {
          "output_type": "execute_result",
          "data": {
            "application/vnd.google.colaboratory.intrinsic+json": {
              "type": "string"
            },
            "text/plain": [
              "'ABC'"
            ]
          },
          "metadata": {},
          "execution_count": 97
        }
      ]
    },
    {
      "cell_type": "code",
      "metadata": {
        "colab": {
          "base_uri": "https://localhost:8080/"
        },
        "id": "_kgxUHnY8eRa",
        "outputId": "1b1cf773-bbc6-4749-ded5-75476691e439"
      },
      "source": [
        "# Visualizando a lista após a remoção \n",
        "lista"
      ],
      "execution_count": 98,
      "outputs": [
        {
          "output_type": "execute_result",
          "data": {
            "text/plain": [
              "[1, 3, 7, 2, 3, 8, 4, 'XYZ']"
            ]
          },
          "metadata": {},
          "execution_count": 98
        }
      ]
    },
    {
      "cell_type": "code",
      "metadata": {
        "colab": {
          "base_uri": "https://localhost:8080/"
        },
        "id": "8VmEN9Nz8eao",
        "outputId": "c7473fc9-4a84-4e47-878f-36db05f233d6"
      },
      "source": [
        "# Removendo o elemento da última posição\n",
        "lista.pop(-1)\n",
        "# Visualizando a lista após a remoção \n",
        "lista"
      ],
      "execution_count": 99,
      "outputs": [
        {
          "output_type": "execute_result",
          "data": {
            "text/plain": [
              "[1, 3, 7, 2, 3, 8, 4]"
            ]
          },
          "metadata": {},
          "execution_count": 99
        }
      ]
    },
    {
      "cell_type": "code",
      "metadata": {
        "colab": {
          "base_uri": "https://localhost:8080/",
          "height": 178
        },
        "id": "bNpndYj58jBo",
        "outputId": "f0350bb8-4f49-48b8-a8b4-1019ca2b0e40"
      },
      "source": [
        "# O método pop() provoca um erro caso a posição não exista\n",
        "lista.pop(45)"
      ],
      "execution_count": 100,
      "outputs": [
        {
          "output_type": "error",
          "ename": "IndexError",
          "evalue": "ignored",
          "traceback": [
            "\u001b[0;31m---------------------------------------------------------------------------\u001b[0m",
            "\u001b[0;31mIndexError\u001b[0m                                Traceback (most recent call last)",
            "\u001b[0;32m<ipython-input-100-09636612bf93>\u001b[0m in \u001b[0;36m<module>\u001b[0;34m()\u001b[0m\n\u001b[1;32m      1\u001b[0m \u001b[0;31m# O método pop() provoca um erro caso a posição não exista\u001b[0m\u001b[0;34m\u001b[0m\u001b[0;34m\u001b[0m\u001b[0;34m\u001b[0m\u001b[0m\n\u001b[0;32m----> 2\u001b[0;31m \u001b[0mlista\u001b[0m\u001b[0;34m.\u001b[0m\u001b[0mpop\u001b[0m\u001b[0;34m(\u001b[0m\u001b[0;36m45\u001b[0m\u001b[0;34m)\u001b[0m\u001b[0;34m\u001b[0m\u001b[0;34m\u001b[0m\u001b[0m\n\u001b[0m",
            "\u001b[0;31mIndexError\u001b[0m: pop index out of range"
          ]
        }
      ]
    },
    {
      "cell_type": "markdown",
      "metadata": {
        "id": "GD2bOVWv8oS9"
      },
      "source": [
        "###4.9 - remove()"
      ]
    },
    {
      "cell_type": "code",
      "metadata": {
        "colab": {
          "base_uri": "https://localhost:8080/"
        },
        "id": "6vDPtcMp8r8P",
        "outputId": "faa6e97c-91f4-4b71-e87c-172c0a18206f"
      },
      "source": [
        "# Utilizamos o método remove() quando desejamos apagar um elemento específico da lista\n",
        "# Visualizando lista_strings antes da remoção\n",
        "lista_strings"
      ],
      "execution_count": 101,
      "outputs": [
        {
          "output_type": "execute_result",
          "data": {
            "text/plain": [
              "['Toni', 'Python', 'CEFET MG', 'Engenharia Elétrica']"
            ]
          },
          "metadata": {},
          "execution_count": 101
        }
      ]
    },
    {
      "cell_type": "code",
      "metadata": {
        "id": "AgeZkrJW8sHq"
      },
      "source": [
        "# Removendo \"Python\"\n",
        "lista_strings.remove(\"Python\")"
      ],
      "execution_count": 102,
      "outputs": []
    },
    {
      "cell_type": "code",
      "metadata": {
        "colab": {
          "base_uri": "https://localhost:8080/"
        },
        "id": "6WvZ2ULv8sQn",
        "outputId": "f281a682-c2cd-4261-a6e8-657184b9823f"
      },
      "source": [
        "# Visualizando lista_strings após a remoção\n",
        "lista_strings"
      ],
      "execution_count": 103,
      "outputs": [
        {
          "output_type": "execute_result",
          "data": {
            "text/plain": [
              "['Toni', 'CEFET MG', 'Engenharia Elétrica']"
            ]
          },
          "metadata": {},
          "execution_count": 103
        }
      ]
    },
    {
      "cell_type": "code",
      "metadata": {
        "colab": {
          "base_uri": "https://localhost:8080/",
          "height": 178
        },
        "id": "Xg7TRCOC8sZ2",
        "outputId": "bf9d77ad-061c-4f3a-afb3-4d52f76aa22c"
      },
      "source": [
        "# O método remove() provoca um erro caso o elemento não exista\n",
        "lista_strings.remove(\"Java\")"
      ],
      "execution_count": 104,
      "outputs": [
        {
          "output_type": "error",
          "ename": "ValueError",
          "evalue": "ignored",
          "traceback": [
            "\u001b[0;31m---------------------------------------------------------------------------\u001b[0m",
            "\u001b[0;31mValueError\u001b[0m                                Traceback (most recent call last)",
            "\u001b[0;32m<ipython-input-104-b982b4330746>\u001b[0m in \u001b[0;36m<module>\u001b[0;34m()\u001b[0m\n\u001b[1;32m      1\u001b[0m \u001b[0;31m# O método remove() provoca um erro caso o elemento não exista\u001b[0m\u001b[0;34m\u001b[0m\u001b[0;34m\u001b[0m\u001b[0;34m\u001b[0m\u001b[0m\n\u001b[0;32m----> 2\u001b[0;31m \u001b[0mlista_strings\u001b[0m\u001b[0;34m.\u001b[0m\u001b[0mremove\u001b[0m\u001b[0;34m(\u001b[0m\u001b[0;34m\"Java\"\u001b[0m\u001b[0;34m)\u001b[0m\u001b[0;34m\u001b[0m\u001b[0;34m\u001b[0m\u001b[0m\n\u001b[0m",
            "\u001b[0;31mValueError\u001b[0m: list.remove(x): x not in list"
          ]
        }
      ]
    },
    {
      "cell_type": "markdown",
      "metadata": {
        "id": "4-Z8Zv7280av"
      },
      "source": [
        "###4.10 - reverse()"
      ]
    },
    {
      "cell_type": "code",
      "metadata": {
        "colab": {
          "base_uri": "https://localhost:8080/"
        },
        "id": "B5i752K687yq",
        "outputId": "1efb3182-e1a7-4bb7-ad00-dfdbfd074904"
      },
      "source": [
        "# Redefinindo os elementos de lista\n",
        "lista = [1, 2, 3, 4, 5, 6]\n",
        "# Visualizando a lista antes da chamada ao método reverse()\n",
        "lista"
      ],
      "execution_count": 105,
      "outputs": [
        {
          "output_type": "execute_result",
          "data": {
            "text/plain": [
              "[1, 2, 3, 4, 5, 6]"
            ]
          },
          "metadata": {},
          "execution_count": 105
        }
      ]
    },
    {
      "cell_type": "code",
      "metadata": {
        "id": "d7l2uQcb87-F"
      },
      "source": [
        "# Invertendo os elementos da lista\n",
        "lista.reverse()"
      ],
      "execution_count": 106,
      "outputs": []
    },
    {
      "cell_type": "code",
      "metadata": {
        "colab": {
          "base_uri": "https://localhost:8080/"
        },
        "id": "_g5-wqdH88Gy",
        "outputId": "e8db85c3-355e-43c4-f58a-86a351a2cf9b"
      },
      "source": [
        "# Visualizando a lista após chamada ao método reverse()\n",
        "lista"
      ],
      "execution_count": 107,
      "outputs": [
        {
          "output_type": "execute_result",
          "data": {
            "text/plain": [
              "[6, 5, 4, 3, 2, 1]"
            ]
          },
          "metadata": {},
          "execution_count": 107
        }
      ]
    },
    {
      "cell_type": "markdown",
      "metadata": {
        "id": "WKogR7US9CFp"
      },
      "source": [
        "###4.11 - sort()"
      ]
    },
    {
      "cell_type": "code",
      "metadata": {
        "colab": {
          "base_uri": "https://localhost:8080/"
        },
        "id": "qvB1IRWx9E1P",
        "outputId": "51792e20-f406-4fbb-d712-4f74057c6395"
      },
      "source": [
        "# Redefinindo os elementos de lista\n",
        "lista = [6, 3, 1, 4, 2, 5]\n",
        "# Visualizando a lista antes da chamada ao método sort()\n",
        "lista"
      ],
      "execution_count": 108,
      "outputs": [
        {
          "output_type": "execute_result",
          "data": {
            "text/plain": [
              "[6, 3, 1, 4, 2, 5]"
            ]
          },
          "metadata": {},
          "execution_count": 108
        }
      ]
    },
    {
      "cell_type": "code",
      "metadata": {
        "id": "iW3HIPXx9E83"
      },
      "source": [
        "# Ordenando os elementos em ordem crescente\n",
        "lista.sort()"
      ],
      "execution_count": 109,
      "outputs": []
    },
    {
      "cell_type": "code",
      "metadata": {
        "colab": {
          "base_uri": "https://localhost:8080/"
        },
        "id": "RNZOVRrE9FEV",
        "outputId": "02fb4636-1b27-43b9-ae72-598079bab290"
      },
      "source": [
        "# Visualizando a lista após chamada ao método sort()\n",
        "lista"
      ],
      "execution_count": 110,
      "outputs": [
        {
          "output_type": "execute_result",
          "data": {
            "text/plain": [
              "[1, 2, 3, 4, 5, 6]"
            ]
          },
          "metadata": {},
          "execution_count": 110
        }
      ]
    },
    {
      "cell_type": "code",
      "metadata": {
        "colab": {
          "base_uri": "https://localhost:8080/"
        },
        "id": "zloq5dBP9FN1",
        "outputId": "33cc2221-dc4f-45dc-af41-ef83a8c0302b"
      },
      "source": [
        "# Redefinindo os elementos de lista\n",
        "lista = [6, 3, 1, 4, 2, 5]\n",
        "# Visualizando a lista antes da chamada ao método sort()\n",
        "lista"
      ],
      "execution_count": 111,
      "outputs": [
        {
          "output_type": "execute_result",
          "data": {
            "text/plain": [
              "[6, 3, 1, 4, 2, 5]"
            ]
          },
          "metadata": {},
          "execution_count": 111
        }
      ]
    },
    {
      "cell_type": "code",
      "metadata": {
        "id": "b8Xka2Yu88Rd"
      },
      "source": [
        "# Ordenando os elementos em ordem decrescente\n",
        "lista.sort(reverse=True)"
      ],
      "execution_count": 112,
      "outputs": []
    },
    {
      "cell_type": "code",
      "metadata": {
        "colab": {
          "base_uri": "https://localhost:8080/"
        },
        "id": "IWPl-tCA9Ntg",
        "outputId": "db4cbcef-ec55-470b-964e-212dcdbdf872"
      },
      "source": [
        "# Visualizando a lista após chamada ao método sort()\n",
        "lista"
      ],
      "execution_count": 113,
      "outputs": [
        {
          "output_type": "execute_result",
          "data": {
            "text/plain": [
              "[6, 5, 4, 3, 2, 1]"
            ]
          },
          "metadata": {},
          "execution_count": 113
        }
      ]
    },
    {
      "cell_type": "code",
      "metadata": {
        "colab": {
          "base_uri": "https://localhost:8080/"
        },
        "id": "V_hZS8v89PXf",
        "outputId": "d57beb60-69a8-429f-ae1e-728a31cffa1a"
      },
      "source": [
        "# Ordenando lista de caracteres\n",
        "lista_letras = [\"Q\", \"W\", \"E\", \"R\", \"T\", \"Y\", \"A\", \"S\", \"D\"]\n",
        "lista_letras.sort()\n",
        "lista_letras"
      ],
      "execution_count": 114,
      "outputs": [
        {
          "output_type": "execute_result",
          "data": {
            "text/plain": [
              "['A', 'D', 'E', 'Q', 'R', 'S', 'T', 'W', 'Y']"
            ]
          },
          "metadata": {},
          "execution_count": 114
        }
      ]
    },
    {
      "cell_type": "code",
      "metadata": {
        "colab": {
          "base_uri": "https://localhost:8080/"
        },
        "id": "1-TcHSN69Q7d",
        "outputId": "525d0e28-0346-4834-ce6c-cba222cb8b7e"
      },
      "source": [
        "# Ordenando lista de strings\n",
        "lista_strings = [\"GHI\", \"XYZ\", \"DEF\", \"ABC\", \"KLM\"]\n",
        "lista_strings.sort()\n",
        "lista_strings"
      ],
      "execution_count": 115,
      "outputs": [
        {
          "output_type": "execute_result",
          "data": {
            "text/plain": [
              "['ABC', 'DEF', 'GHI', 'KLM', 'XYZ']"
            ]
          },
          "metadata": {},
          "execution_count": 115
        }
      ]
    },
    {
      "cell_type": "code",
      "metadata": {
        "colab": {
          "base_uri": "https://localhost:8080/",
          "height": 212
        },
        "id": "WwsOGqck9Sa8",
        "outputId": "a8e33094-054b-4063-d328-3c5372b2b5a6"
      },
      "source": [
        "# Não é possível ordenar uma lista com elementos de diferentes tipos\n",
        "lista_misturada = [2, \"ABC\", 3.14]\n",
        "lista_misturada.sort()\n",
        "lista_misturada"
      ],
      "execution_count": 116,
      "outputs": [
        {
          "output_type": "error",
          "ename": "TypeError",
          "evalue": "ignored",
          "traceback": [
            "\u001b[0;31m---------------------------------------------------------------------------\u001b[0m",
            "\u001b[0;31mTypeError\u001b[0m                                 Traceback (most recent call last)",
            "\u001b[0;32m<ipython-input-116-c4f4a7adef59>\u001b[0m in \u001b[0;36m<module>\u001b[0;34m()\u001b[0m\n\u001b[1;32m      1\u001b[0m \u001b[0;31m# Não é possível ordenar uma lista com elementos de diferentes tipos\u001b[0m\u001b[0;34m\u001b[0m\u001b[0;34m\u001b[0m\u001b[0;34m\u001b[0m\u001b[0m\n\u001b[1;32m      2\u001b[0m \u001b[0mlista_misturada\u001b[0m \u001b[0;34m=\u001b[0m \u001b[0;34m[\u001b[0m\u001b[0;36m2\u001b[0m\u001b[0;34m,\u001b[0m \u001b[0;34m\"ABC\"\u001b[0m\u001b[0;34m,\u001b[0m \u001b[0;36m3.14\u001b[0m\u001b[0;34m]\u001b[0m\u001b[0;34m\u001b[0m\u001b[0;34m\u001b[0m\u001b[0m\n\u001b[0;32m----> 3\u001b[0;31m \u001b[0mlista_misturada\u001b[0m\u001b[0;34m.\u001b[0m\u001b[0msort\u001b[0m\u001b[0;34m(\u001b[0m\u001b[0;34m)\u001b[0m\u001b[0;34m\u001b[0m\u001b[0;34m\u001b[0m\u001b[0m\n\u001b[0m\u001b[1;32m      4\u001b[0m \u001b[0mlista_misturada\u001b[0m\u001b[0;34m\u001b[0m\u001b[0;34m\u001b[0m\u001b[0m\n",
            "\u001b[0;31mTypeError\u001b[0m: '<' not supported between instances of 'str' and 'int'"
          ]
        }
      ]
    },
    {
      "cell_type": "markdown",
      "metadata": {
        "id": "bYr_22_duUxX"
      },
      "source": [
        "### 5. Funções aplicáveis a uma lista\n",
        "\n",
        "Função | Descrição | Exemplo\n",
        ":----- | :-------- | :------\n",
        "len | Retorna a quantidade de elementos de uma lista | `print(len(lista))`\n",
        "max  | Retorna o maior elemento de uma lista | `maior = max(lista)`\n",
        "min | Retorna o menor elemento de uma lista | `menor = min(lista)`\n",
        "sum | Retorna o somatório dos elementos de uma lista | `soma = sum(lista)`"
      ]
    },
    {
      "cell_type": "code",
      "metadata": {
        "id": "vtEn3eSPunWY"
      },
      "source": [
        "# Redefinindo os elementos de lista e lista_letras\n",
        "lista = [8, 3, 21, 14, 2, 45]\n",
        "lista_letras = [\"Q\", \"W\", \"E\", \"R\", \"T\", \"Y\", \"A\", \"S\", \"D\"]"
      ],
      "execution_count": 117,
      "outputs": []
    },
    {
      "cell_type": "code",
      "metadata": {
        "colab": {
          "base_uri": "https://localhost:8080/"
        },
        "id": "NN4_NkH_upHo",
        "outputId": "4c3576c1-ed71-49a7-bb9f-cb9d235fd5d8"
      },
      "source": [
        "print(lista)\n",
        "print(lista_letras)"
      ],
      "execution_count": 118,
      "outputs": [
        {
          "output_type": "stream",
          "name": "stdout",
          "text": [
            "[8, 3, 21, 14, 2, 45]\n",
            "['Q', 'W', 'E', 'R', 'T', 'Y', 'A', 'S', 'D']\n"
          ]
        }
      ]
    },
    {
      "cell_type": "code",
      "metadata": {
        "colab": {
          "base_uri": "https://localhost:8080/"
        },
        "id": "ldA13IPMurhA",
        "outputId": "04246f4c-d0d2-408c-fd6f-c8ac8b46f791"
      },
      "source": [
        "# A função len() retorna a quantidade de elementos de uma lista\n",
        "len(lista)"
      ],
      "execution_count": 119,
      "outputs": [
        {
          "output_type": "execute_result",
          "data": {
            "text/plain": [
              "6"
            ]
          },
          "metadata": {},
          "execution_count": 119
        }
      ]
    },
    {
      "cell_type": "code",
      "metadata": {
        "colab": {
          "base_uri": "https://localhost:8080/"
        },
        "id": "OL0YJX_muzUQ",
        "outputId": "9c83c4ff-6953-4bec-d795-9f7a40efff2a"
      },
      "source": [
        "# A função max() retorna o maior elemento de uma lista\n",
        "max(lista)"
      ],
      "execution_count": 120,
      "outputs": [
        {
          "output_type": "execute_result",
          "data": {
            "text/plain": [
              "45"
            ]
          },
          "metadata": {},
          "execution_count": 120
        }
      ]
    },
    {
      "cell_type": "code",
      "metadata": {
        "colab": {
          "base_uri": "https://localhost:8080/",
          "height": 35
        },
        "id": "0pGeXdHtu1Vi",
        "outputId": "3451485e-a59c-4dc8-c18b-5c5b958ae4cd"
      },
      "source": [
        "max(lista_letras)"
      ],
      "execution_count": 121,
      "outputs": [
        {
          "output_type": "execute_result",
          "data": {
            "application/vnd.google.colaboratory.intrinsic+json": {
              "type": "string"
            },
            "text/plain": [
              "'Y'"
            ]
          },
          "metadata": {},
          "execution_count": 121
        }
      ]
    },
    {
      "cell_type": "code",
      "metadata": {
        "colab": {
          "base_uri": "https://localhost:8080/"
        },
        "id": "qqXBshbIu20w",
        "outputId": "16479f77-12e6-4729-b554-f7df7b0263ff"
      },
      "source": [
        "# A função min() retorna o menor elemento de uma lista\n",
        "min(lista)"
      ],
      "execution_count": 122,
      "outputs": [
        {
          "output_type": "execute_result",
          "data": {
            "text/plain": [
              "2"
            ]
          },
          "metadata": {},
          "execution_count": 122
        }
      ]
    },
    {
      "cell_type": "code",
      "metadata": {
        "colab": {
          "base_uri": "https://localhost:8080/",
          "height": 35
        },
        "id": "3_sJS-J3u4Ow",
        "outputId": "f3b8afaf-3981-4310-de1f-95585830a44f"
      },
      "source": [
        "min(lista_letras)"
      ],
      "execution_count": 123,
      "outputs": [
        {
          "output_type": "execute_result",
          "data": {
            "application/vnd.google.colaboratory.intrinsic+json": {
              "type": "string"
            },
            "text/plain": [
              "'A'"
            ]
          },
          "metadata": {},
          "execution_count": 123
        }
      ]
    },
    {
      "cell_type": "code",
      "metadata": {
        "colab": {
          "base_uri": "https://localhost:8080/"
        },
        "id": "UJB_B5fOu55W",
        "outputId": "22db900b-1c48-47ab-df6d-2fecbdd9bed5"
      },
      "source": [
        "# A função sum() retorna a soma dos elementos de uma lista numérica\n",
        "sum(lista)"
      ],
      "execution_count": 124,
      "outputs": [
        {
          "output_type": "execute_result",
          "data": {
            "text/plain": [
              "93"
            ]
          },
          "metadata": {},
          "execution_count": 124
        }
      ]
    },
    {
      "cell_type": "markdown",
      "metadata": {
        "id": "XkDRom0Zu7E2"
      },
      "source": [
        "# Outras coleções em Python\n",
        "### Tuple\n",
        "* Assim com uma lista, uma tupla também é uma coleção de elementos. A diferença entre elas, é que a tupla é imutável. Ou seja, uma vez definidos os seus elementos, a tupla não pode mais ser alterada\n",
        "* Cada elemento possui uma posição dentro de uma lista. Essa posição é chamada índice\n",
        "* O primeiro elemento fica armazenado na posição *0*, enquanto o último elemento fica armazenado na posição *n-1* (onde *n* é a quantidade de elementos da lista)\n",
        "\n",
        "### Set\n",
        "* Conjuntos são coleções de elementos únicos\n",
        "* Principais características:\n",
        "   * Os elementos não são armazenados em uma ordem específica\n",
        "   * Conjuntos não contém elementos repetidos\n",
        "* Conjuntos não suportam indexação como as listas e tuplas\n",
        "\n",
        "### Dict\n",
        "* Um dicionário é uma coleção de elementos que possuem uma *chave* e um *valor*\n",
        "* Ao invés de um índice, usamos a *chave* para recuperar um *valor*\n"
      ]
    },
    {
      "cell_type": "markdown",
      "metadata": {
        "id": "Rt0flf-zrLoh"
      },
      "source": [
        "### 1. Como criar tuplas"
      ]
    },
    {
      "cell_type": "code",
      "metadata": {
        "id": "nJN-Kiz4qzfE"
      },
      "source": [
        "# Criando tuplas vazias\n",
        "tupla_vazia = () # lista_vazia = []\n",
        "tupla_vazia2 = tuple()"
      ],
      "execution_count": 125,
      "outputs": []
    },
    {
      "cell_type": "code",
      "metadata": {
        "colab": {
          "base_uri": "https://localhost:8080/"
        },
        "id": "bZhElWV1q3Un",
        "outputId": "03021d7a-6e9c-4f82-c464-c4e08b2e9c80"
      },
      "source": [
        "# Verificando o tipo de tupla_vazia\n",
        "type(tupla_vazia)"
      ],
      "execution_count": 126,
      "outputs": [
        {
          "output_type": "execute_result",
          "data": {
            "text/plain": [
              "tuple"
            ]
          },
          "metadata": {},
          "execution_count": 126
        }
      ]
    },
    {
      "cell_type": "code",
      "metadata": {
        "colab": {
          "base_uri": "https://localhost:8080/"
        },
        "id": "-vIc0jzKq31U",
        "outputId": "02d14af9-2d17-4354-98b2-f205b63c6b72"
      },
      "source": [
        "# Verificando se tupla_vazia2 é uma instância de tuple\n",
        "isinstance(tupla_vazia2, tuple)"
      ],
      "execution_count": 127,
      "outputs": [
        {
          "output_type": "execute_result",
          "data": {
            "text/plain": [
              "True"
            ]
          },
          "metadata": {},
          "execution_count": 127
        }
      ]
    },
    {
      "cell_type": "code",
      "metadata": {
        "colab": {
          "base_uri": "https://localhost:8080/"
        },
        "id": "RFxHfwjuq4GQ",
        "outputId": "f99f5b11-763f-469c-d102-1489254a8be1"
      },
      "source": [
        "len(tupla_vazia)"
      ],
      "execution_count": 128,
      "outputs": [
        {
          "output_type": "execute_result",
          "data": {
            "text/plain": [
              "0"
            ]
          },
          "metadata": {},
          "execution_count": 128
        }
      ]
    },
    {
      "cell_type": "code",
      "metadata": {
        "id": "o1CVX-zfq4Vc"
      },
      "source": [
        "# Criando tuplas com elementos\n",
        "tupla1 = (3, 19, 4, 21, 3, 5, 13)\n",
        "tupla2 = (3, 19, 4, 21, 3, 5, 13, \"tupla\", (1, 2, 3))\n",
        "tupla3 = (3, 19, 4, 21, 3, 5, 13, \"tupla\", [1, 2, 3])"
      ],
      "execution_count": 129,
      "outputs": []
    },
    {
      "cell_type": "markdown",
      "metadata": {
        "id": "OiE0H8RirUhU"
      },
      "source": [
        "### 2. Como acessar elementos de uma tupla"
      ]
    },
    {
      "cell_type": "code",
      "metadata": {
        "colab": {
          "base_uri": "https://localhost:8080/"
        },
        "id": "KiWfdB8grDz2",
        "outputId": "057af169-b71a-4ba1-ddca-c7c7747136bc"
      },
      "source": [
        "# Visualizando os elementos de tupla1\n",
        "tupla1"
      ],
      "execution_count": 132,
      "outputs": [
        {
          "output_type": "execute_result",
          "data": {
            "text/plain": [
              "(3, 19, 4, 21, 3, 5, 13)"
            ]
          },
          "metadata": {},
          "execution_count": 132
        }
      ]
    },
    {
      "cell_type": "code",
      "metadata": {
        "colab": {
          "base_uri": "https://localhost:8080/"
        },
        "id": "vxNn5hSHAyIJ",
        "outputId": "23e75173-8573-4739-b54d-2302ed39e660"
      },
      "source": [
        "# Visualizando os elementos de tupla2\n",
        "tupla2"
      ],
      "execution_count": 133,
      "outputs": [
        {
          "output_type": "execute_result",
          "data": {
            "text/plain": [
              "(3, 19, 4, 21, 3, 5, 13, 'tupla', (1, 2, 3))"
            ]
          },
          "metadata": {},
          "execution_count": 133
        }
      ]
    },
    {
      "cell_type": "code",
      "metadata": {
        "colab": {
          "base_uri": "https://localhost:8080/"
        },
        "id": "aii4IlO-A0O6",
        "outputId": "6d186f4f-f5b1-4654-9cdd-7926a4bdaf0e"
      },
      "source": [
        "# Visualizando os elementos de tupla3\n",
        "tupla3"
      ],
      "execution_count": 134,
      "outputs": [
        {
          "output_type": "execute_result",
          "data": {
            "text/plain": [
              "(3, 19, 4, 21, 3, 5, 13, 'tupla', [1, 2, 3])"
            ]
          },
          "metadata": {},
          "execution_count": 134
        }
      ]
    },
    {
      "cell_type": "code",
      "metadata": {
        "colab": {
          "base_uri": "https://localhost:8080/"
        },
        "id": "MFLZMxKPrH2P",
        "outputId": "d487df8f-d1b8-4200-bfae-445fd34208af"
      },
      "source": [
        "# Acessando o índice 0 (primeira posição) de tupla1\n",
        "tupla1[0]"
      ],
      "execution_count": 135,
      "outputs": [
        {
          "output_type": "execute_result",
          "data": {
            "text/plain": [
              "3"
            ]
          },
          "metadata": {},
          "execution_count": 135
        }
      ]
    },
    {
      "cell_type": "code",
      "metadata": {
        "colab": {
          "base_uri": "https://localhost:8080/"
        },
        "id": "z_hLZqJjA4qv",
        "outputId": "6a8f252c-7eda-4e56-acfd-7c9470bbb3d2"
      },
      "source": [
        "# Visualizando os elementos de tupla1\n",
        "tupla1"
      ],
      "execution_count": 136,
      "outputs": [
        {
          "output_type": "execute_result",
          "data": {
            "text/plain": [
              "(3, 19, 4, 21, 3, 5, 13)"
            ]
          },
          "metadata": {},
          "execution_count": 136
        }
      ]
    },
    {
      "cell_type": "code",
      "metadata": {
        "colab": {
          "base_uri": "https://localhost:8080/"
        },
        "id": "IeghyXqoA6vL",
        "outputId": "aa3984bd-1d41-4d2f-84eb-01d3061dbc7e"
      },
      "source": [
        "# Acessando o índice 5 (sexta posição) de tupla2\n",
        "tupla2[5]"
      ],
      "execution_count": 137,
      "outputs": [
        {
          "output_type": "execute_result",
          "data": {
            "text/plain": [
              "5"
            ]
          },
          "metadata": {},
          "execution_count": 137
        }
      ]
    },
    {
      "cell_type": "markdown",
      "metadata": {
        "id": "u3cIYvR8rdZS"
      },
      "source": [
        "### 3. Como criar conjuntos (set)"
      ]
    },
    {
      "cell_type": "code",
      "metadata": {
        "id": "Sa1Ta96hr8sc"
      },
      "source": [
        "# Criando conjuntos vazios\n",
        "conj_vazio1 = set() # Essa é a única forma de se criar um conjunto vazio\n",
        "conj_vazio2 = {} # As chaves são utilizadas para construir um dicionário vazio."
      ],
      "execution_count": 139,
      "outputs": []
    },
    {
      "cell_type": "code",
      "metadata": {
        "colab": {
          "base_uri": "https://localhost:8080/"
        },
        "id": "ixkntFx3BEGM",
        "outputId": "5ddfdbd3-4605-44f4-dac5-37ed59f78db1"
      },
      "source": [
        "type(conj_vazio1)"
      ],
      "execution_count": 140,
      "outputs": [
        {
          "output_type": "execute_result",
          "data": {
            "text/plain": [
              "set"
            ]
          },
          "metadata": {},
          "execution_count": 140
        }
      ]
    },
    {
      "cell_type": "code",
      "metadata": {
        "colab": {
          "base_uri": "https://localhost:8080/"
        },
        "id": "eiO4f5-QBFWx",
        "outputId": "fc372798-c9bc-45f8-d8d0-d4c58c764d62"
      },
      "source": [
        "type(conj_vazio2)"
      ],
      "execution_count": 141,
      "outputs": [
        {
          "output_type": "execute_result",
          "data": {
            "text/plain": [
              "dict"
            ]
          },
          "metadata": {},
          "execution_count": 141
        }
      ]
    },
    {
      "cell_type": "code",
      "metadata": {
        "id": "gGltmuLyBByt"
      },
      "source": [
        "# Criando conjuntos com elementos\n",
        "conj1 = {1, 2, 3, 4, 5}\n",
        "conj2 = {\"A\", \"B\", \"C\", \"D\"}\n",
        "conj3 = {\"ABC\", 123, 3.14}"
      ],
      "execution_count": 143,
      "outputs": []
    },
    {
      "cell_type": "code",
      "metadata": {
        "colab": {
          "base_uri": "https://localhost:8080/"
        },
        "id": "f536NscIBM_f",
        "outputId": "858cebe3-4b9e-45f8-b690-11ff91e4dd10"
      },
      "source": [
        "conj1"
      ],
      "execution_count": 144,
      "outputs": [
        {
          "output_type": "execute_result",
          "data": {
            "text/plain": [
              "{1, 2, 3, 4, 5}"
            ]
          },
          "metadata": {},
          "execution_count": 144
        }
      ]
    },
    {
      "cell_type": "code",
      "metadata": {
        "colab": {
          "base_uri": "https://localhost:8080/"
        },
        "id": "p_YWnd21BOVW",
        "outputId": "98c35c3a-e80a-4556-8b9e-54e76dc5445c"
      },
      "source": [
        "conj2"
      ],
      "execution_count": 145,
      "outputs": [
        {
          "output_type": "execute_result",
          "data": {
            "text/plain": [
              "{'A', 'B', 'C', 'D'}"
            ]
          },
          "metadata": {},
          "execution_count": 145
        }
      ]
    },
    {
      "cell_type": "code",
      "metadata": {
        "colab": {
          "base_uri": "https://localhost:8080/"
        },
        "id": "Y5deSJhaBPhY",
        "outputId": "ea4c35e1-64ac-43bf-86e7-b1a061afeb36"
      },
      "source": [
        "conj3"
      ],
      "execution_count": 146,
      "outputs": [
        {
          "output_type": "execute_result",
          "data": {
            "text/plain": [
              "{123, 3.14, 'ABC'}"
            ]
          },
          "metadata": {},
          "execution_count": 146
        }
      ]
    },
    {
      "cell_type": "code",
      "metadata": {
        "colab": {
          "base_uri": "https://localhost:8080/",
          "height": 178
        },
        "id": "TgR2uR7isUlc",
        "outputId": "0588780b-5a6a-4613-ee62-0c2b545d1d2c"
      },
      "source": [
        "# Conjuntos não podem conter outras estruturas aninhadas\n",
        "conj3 = {1, \"ABC\", [1,2,3]} # Provoca um erro por causa da lista"
      ],
      "execution_count": 147,
      "outputs": [
        {
          "output_type": "error",
          "ename": "TypeError",
          "evalue": "ignored",
          "traceback": [
            "\u001b[0;31m---------------------------------------------------------------------------\u001b[0m",
            "\u001b[0;31mTypeError\u001b[0m                                 Traceback (most recent call last)",
            "\u001b[0;32m<ipython-input-147-1d06311af28d>\u001b[0m in \u001b[0;36m<module>\u001b[0;34m()\u001b[0m\n\u001b[1;32m      1\u001b[0m \u001b[0;31m# Conjuntos não podem conter outras estruturas aninhadas\u001b[0m\u001b[0;34m\u001b[0m\u001b[0;34m\u001b[0m\u001b[0;34m\u001b[0m\u001b[0m\n\u001b[0;32m----> 2\u001b[0;31m \u001b[0mconj3\u001b[0m \u001b[0;34m=\u001b[0m \u001b[0;34m{\u001b[0m\u001b[0;36m1\u001b[0m\u001b[0;34m,\u001b[0m \u001b[0;34m\"ABC\"\u001b[0m\u001b[0;34m,\u001b[0m \u001b[0;34m[\u001b[0m\u001b[0;36m1\u001b[0m\u001b[0;34m,\u001b[0m\u001b[0;36m2\u001b[0m\u001b[0;34m,\u001b[0m\u001b[0;36m3\u001b[0m\u001b[0;34m]\u001b[0m\u001b[0;34m}\u001b[0m \u001b[0;31m# Provoca um erro por causa da lista\u001b[0m\u001b[0;34m\u001b[0m\u001b[0;34m\u001b[0m\u001b[0m\n\u001b[0m",
            "\u001b[0;31mTypeError\u001b[0m: unhashable type: 'list'"
          ]
        }
      ]
    },
    {
      "cell_type": "markdown",
      "metadata": {
        "id": "u2evl64Frkcc"
      },
      "source": [
        "### 4. Como acessar elementos de um conjunto"
      ]
    },
    {
      "cell_type": "code",
      "metadata": {
        "colab": {
          "base_uri": "https://localhost:8080/"
        },
        "id": "IkmyZdwYsGOC",
        "outputId": "93c0bd19-7149-43ef-8007-a7bf4b7e76eb"
      },
      "source": [
        "conj1"
      ],
      "execution_count": 149,
      "outputs": [
        {
          "output_type": "execute_result",
          "data": {
            "text/plain": [
              "{1, 2, 3, 4, 5}"
            ]
          },
          "metadata": {},
          "execution_count": 149
        }
      ]
    },
    {
      "cell_type": "code",
      "metadata": {
        "colab": {
          "base_uri": "https://localhost:8080/"
        },
        "id": "mwLeKkOlBXlH",
        "outputId": "9dc0f596-14ad-4ab4-9b08-89e18e8d410d"
      },
      "source": [
        "# Conjuntos não suportam indexação. Então vamos precisar do comando for para acessar os elementos de um conjunto\n",
        "for elem in conj1:\n",
        "    print(elem)"
      ],
      "execution_count": 150,
      "outputs": [
        {
          "output_type": "stream",
          "name": "stdout",
          "text": [
            "1\n",
            "2\n",
            "3\n",
            "4\n",
            "5\n"
          ]
        }
      ]
    },
    {
      "cell_type": "code",
      "metadata": {
        "colab": {
          "base_uri": "https://localhost:8080/",
          "height": 178
        },
        "id": "IEDHadaKsaWk",
        "outputId": "77f510ed-3341-47dc-cef2-acb8111bdc66"
      },
      "source": [
        "# Tentar acessar uma posição em um conjunto provoca um erro\n",
        "conj1[0]"
      ],
      "execution_count": 151,
      "outputs": [
        {
          "output_type": "error",
          "ename": "TypeError",
          "evalue": "ignored",
          "traceback": [
            "\u001b[0;31m---------------------------------------------------------------------------\u001b[0m",
            "\u001b[0;31mTypeError\u001b[0m                                 Traceback (most recent call last)",
            "\u001b[0;32m<ipython-input-151-121b22130e28>\u001b[0m in \u001b[0;36m<module>\u001b[0;34m()\u001b[0m\n\u001b[1;32m      1\u001b[0m \u001b[0;31m# Tentar acessar uma posição em um conjunto provoca um erro\u001b[0m\u001b[0;34m\u001b[0m\u001b[0;34m\u001b[0m\u001b[0;34m\u001b[0m\u001b[0m\n\u001b[0;32m----> 2\u001b[0;31m \u001b[0mconj1\u001b[0m\u001b[0;34m[\u001b[0m\u001b[0;36m0\u001b[0m\u001b[0;34m]\u001b[0m\u001b[0;34m\u001b[0m\u001b[0;34m\u001b[0m\u001b[0m\n\u001b[0m",
            "\u001b[0;31mTypeError\u001b[0m: 'set' object is not subscriptable"
          ]
        }
      ]
    },
    {
      "cell_type": "markdown",
      "metadata": {
        "id": "zWObFKbzsLyO"
      },
      "source": [
        "### 5. Como modificar elementos de um conjunto\n",
        "\n",
        "- Nâo existe uma maneira de modificar elementos em um conjunto. O que pode ser feito é a exclusão de um elemento, seguida da inserção de outro elemento\n"
      ]
    },
    {
      "cell_type": "markdown",
      "metadata": {
        "id": "nG6UMctxsiGQ"
      },
      "source": [
        "### 6. Como criar dicionários"
      ]
    },
    {
      "cell_type": "code",
      "metadata": {
        "id": "-PsOgfSZsuRD"
      },
      "source": [
        "# Criando dicionários vazios\n",
        "dic_vazio1 = {}\n",
        "dic_vazio2 = dict()"
      ],
      "execution_count": 152,
      "outputs": []
    },
    {
      "cell_type": "code",
      "metadata": {
        "colab": {
          "base_uri": "https://localhost:8080/"
        },
        "id": "PnzTpKVMCUjB",
        "outputId": "874c24ca-d0bf-4f9d-d13b-1f193103baa7"
      },
      "source": [
        "# Visualizando o tipo de dic_vazio1\n",
        "type(dic_vazio1)"
      ],
      "execution_count": 153,
      "outputs": [
        {
          "output_type": "execute_result",
          "data": {
            "text/plain": [
              "dict"
            ]
          },
          "metadata": {},
          "execution_count": 153
        }
      ]
    },
    {
      "cell_type": "code",
      "metadata": {
        "colab": {
          "base_uri": "https://localhost:8080/"
        },
        "id": "-IoZMlk9CXqu",
        "outputId": "971bf319-80ce-4587-d854-3878613eae64"
      },
      "source": [
        "# Verificando se dic_vazio2 é uma instância de dict\n",
        "isinstance(dic_vazio2, dict)"
      ],
      "execution_count": 154,
      "outputs": [
        {
          "output_type": "execute_result",
          "data": {
            "text/plain": [
              "True"
            ]
          },
          "metadata": {},
          "execution_count": 154
        }
      ]
    },
    {
      "cell_type": "code",
      "metadata": {
        "colab": {
          "base_uri": "https://localhost:8080/"
        },
        "id": "Cft2VerutC7n",
        "outputId": "02e02142-9909-4639-e268-ee250c192581"
      },
      "source": [
        "# Criando dicionários com pares chave/valor\n",
        "\n",
        "# Dicionário de estados: chave é a sigla do estado e valor é o nome completo\n",
        "dic_estados = { \"MG\":\"Minas Gerais\", \"PR\": \"Paraná\", \"BA\": \"Bahia\", \"RN\": \"Rio Grande do Norte\", \"AM\": \"Amzonas\"}\n",
        "# Obs: o nome do estado Amazonas foi digitado errado de forma intencional\n",
        "dic_estados\n",
        "# OBS: Perceba que as chaves são adicionadas em ordem crescente"
      ],
      "execution_count": 155,
      "outputs": [
        {
          "output_type": "execute_result",
          "data": {
            "text/plain": [
              "{'AM': 'Amzonas',\n",
              " 'BA': 'Bahia',\n",
              " 'MG': 'Minas Gerais',\n",
              " 'PR': 'Paraná',\n",
              " 'RN': 'Rio Grande do Norte'}"
            ]
          },
          "metadata": {},
          "execution_count": 155
        }
      ]
    },
    {
      "cell_type": "code",
      "metadata": {
        "colab": {
          "base_uri": "https://localhost:8080/"
        },
        "id": "cgUPVupStWKI",
        "outputId": "fe49ec17-36c5-4cc2-d878-708fb0cfdc14"
      },
      "source": [
        "# Dicionário de produtos: chave é o código e valor é a descrição do produto\n",
        "dic_produtos = {1215:\"Lápis\", 3221:\"Caneta\", 2329:\"Borracha\", 1092:\"Caderno\", 7633:\"Cola\"}\n",
        "dic_produtos"
      ],
      "execution_count": 156,
      "outputs": [
        {
          "output_type": "execute_result",
          "data": {
            "text/plain": [
              "{1092: 'Caderno',\n",
              " 1215: 'Lápis',\n",
              " 2329: 'Borracha',\n",
              " 3221: 'Caneta',\n",
              " 7633: 'Cola'}"
            ]
          },
          "metadata": {},
          "execution_count": 156
        }
      ]
    },
    {
      "cell_type": "code",
      "metadata": {
        "colab": {
          "base_uri": "https://localhost:8080/"
        },
        "id": "9BRcGJr4ufAJ",
        "outputId": "4eb2aae2-5e00-43b5-8d3e-37003a507ada"
      },
      "source": [
        "# Dicionário de alunos: chave é o nome e valor é uma lista com 3 notas do aluno\n",
        "dic_notas_alunos = {\"João\":[30, 12, 21], \"Maria\": [20, 30, 29], \"José\": [20, 23, 19]}\n",
        "dic_notas_alunos"
      ],
      "execution_count": 157,
      "outputs": [
        {
          "output_type": "execute_result",
          "data": {
            "text/plain": [
              "{'José': [20, 23, 19], 'João': [30, 12, 21], 'Maria': [20, 30, 29]}"
            ]
          },
          "metadata": {},
          "execution_count": 157
        }
      ]
    },
    {
      "cell_type": "code",
      "metadata": {
        "colab": {
          "base_uri": "https://localhost:8080/"
        },
        "id": "e-D3AHTVugzv",
        "outputId": "7cd123ba-b888-446c-c77b-18cc9fa0127c"
      },
      "source": [
        "# Dicionário de alunos 2: chave é o nome e valor é um outro dicionário contendo as 3 notas do aluno\n",
        "dic_notas_alunos2 = {\"João\": {\"nota1\": 30, \"nota2\": 12, \"nota3\": 21}, \n",
        "                     \"Maria\": {\"nota1\": 20, \"nota2\": 30, \"nota3\": 29}, \n",
        "                     \"José\": {\"nota1\": 20, \"nota2\": 23, \"nota3\": 19}, \n",
        "                    }\n",
        "dic_notas_alunos2"
      ],
      "execution_count": 158,
      "outputs": [
        {
          "output_type": "execute_result",
          "data": {
            "text/plain": [
              "{'José': {'nota1': 20, 'nota2': 23, 'nota3': 19},\n",
              " 'João': {'nota1': 30, 'nota2': 12, 'nota3': 21},\n",
              " 'Maria': {'nota1': 20, 'nota2': 30, 'nota3': 29}}"
            ]
          },
          "metadata": {},
          "execution_count": 158
        }
      ]
    },
    {
      "cell_type": "markdown",
      "metadata": {
        "id": "MAYtXki_tokS"
      },
      "source": [
        "### 7. Acessando um valor em um dicionário através de uma chave"
      ]
    },
    {
      "cell_type": "code",
      "metadata": {
        "colab": {
          "base_uri": "https://localhost:8080/"
        },
        "id": "DMzpb7MatnpO",
        "outputId": "e10a79eb-897e-48f9-f471-75128aaa292c"
      },
      "source": [
        "dic_estados"
      ],
      "execution_count": 159,
      "outputs": [
        {
          "output_type": "execute_result",
          "data": {
            "text/plain": [
              "{'AM': 'Amzonas',\n",
              " 'BA': 'Bahia',\n",
              " 'MG': 'Minas Gerais',\n",
              " 'PR': 'Paraná',\n",
              " 'RN': 'Rio Grande do Norte'}"
            ]
          },
          "metadata": {},
          "execution_count": 159
        }
      ]
    },
    {
      "cell_type": "code",
      "metadata": {
        "colab": {
          "base_uri": "https://localhost:8080/",
          "height": 35
        },
        "id": "ds7IaAUYt2fI",
        "outputId": "16b6b3e0-9e7e-4799-f5a3-4e05d02c1e74"
      },
      "source": [
        "# Acessando o valor associado à chave \"PR\"\n",
        "dic_estados[\"PR\"]"
      ],
      "execution_count": 160,
      "outputs": [
        {
          "output_type": "execute_result",
          "data": {
            "application/vnd.google.colaboratory.intrinsic+json": {
              "type": "string"
            },
            "text/plain": [
              "'Paraná'"
            ]
          },
          "metadata": {},
          "execution_count": 160
        }
      ]
    },
    {
      "cell_type": "code",
      "metadata": {
        "colab": {
          "base_uri": "https://localhost:8080/"
        },
        "id": "BYTER2Nwt2wk",
        "outputId": "9a454395-b120-491b-ac3e-ca0d2f6a94b0"
      },
      "source": [
        "# Acessando o valor associado à chave \"MG\" dentro de um comando print\n",
        "print(\"Eu nasci em \"+ dic_estados[\"MG\"] + \".\")"
      ],
      "execution_count": 161,
      "outputs": [
        {
          "output_type": "stream",
          "name": "stdout",
          "text": [
            "Eu nasci em Minas Gerais.\n"
          ]
        }
      ]
    },
    {
      "cell_type": "code",
      "metadata": {
        "colab": {
          "base_uri": "https://localhost:8080/",
          "height": 178
        },
        "id": "UZux6hgst2_U",
        "outputId": "50bed4b4-4049-4406-e451-40054cc00dfb"
      },
      "source": [
        "# Se a chave não existir, é retornado um erro\n",
        "dic_estados[\"XYZ\"]"
      ],
      "execution_count": 162,
      "outputs": [
        {
          "output_type": "error",
          "ename": "KeyError",
          "evalue": "ignored",
          "traceback": [
            "\u001b[0;31m---------------------------------------------------------------------------\u001b[0m",
            "\u001b[0;31mKeyError\u001b[0m                                  Traceback (most recent call last)",
            "\u001b[0;32m<ipython-input-162-ab322d84b7c4>\u001b[0m in \u001b[0;36m<module>\u001b[0;34m()\u001b[0m\n\u001b[1;32m      1\u001b[0m \u001b[0;31m# Se a chave não existir, é retornado um erro\u001b[0m\u001b[0;34m\u001b[0m\u001b[0;34m\u001b[0m\u001b[0;34m\u001b[0m\u001b[0m\n\u001b[0;32m----> 2\u001b[0;31m \u001b[0mdic_estados\u001b[0m\u001b[0;34m[\u001b[0m\u001b[0;34m\"XYZ\"\u001b[0m\u001b[0;34m]\u001b[0m\u001b[0;34m\u001b[0m\u001b[0;34m\u001b[0m\u001b[0m\n\u001b[0m",
            "\u001b[0;31mKeyError\u001b[0m: 'XYZ'"
          ]
        }
      ]
    },
    {
      "cell_type": "code",
      "metadata": {
        "colab": {
          "base_uri": "https://localhost:8080/",
          "height": 35
        },
        "id": "aBXvq07ouBVY",
        "outputId": "bf90b339-ad74-459c-9e1b-0d8acea1cbb9"
      },
      "source": [
        "# Acessando o valor associado à chave 2329\n",
        "dic_produtos[2329]"
      ],
      "execution_count": 163,
      "outputs": [
        {
          "output_type": "execute_result",
          "data": {
            "application/vnd.google.colaboratory.intrinsic+json": {
              "type": "string"
            },
            "text/plain": [
              "'Borracha'"
            ]
          },
          "metadata": {},
          "execution_count": 163
        }
      ]
    },
    {
      "cell_type": "code",
      "metadata": {
        "colab": {
          "base_uri": "https://localhost:8080/"
        },
        "id": "NXuGq9ruuBms",
        "outputId": "245ad67f-ade3-4bb8-8145-d7b04b1c6bd3"
      },
      "source": [
        "dic_notas_alunos"
      ],
      "execution_count": 164,
      "outputs": [
        {
          "output_type": "execute_result",
          "data": {
            "text/plain": [
              "{'José': [20, 23, 19], 'João': [30, 12, 21], 'Maria': [20, 30, 29]}"
            ]
          },
          "metadata": {},
          "execution_count": 164
        }
      ]
    },
    {
      "cell_type": "code",
      "metadata": {
        "colab": {
          "base_uri": "https://localhost:8080/"
        },
        "id": "9k8IS6_ZuB3M",
        "outputId": "2a183640-ca22-4c92-bdd0-d550039a6b46"
      },
      "source": [
        "# Acessando o valor associado à chave \"Maria\" no dicionário dic_notas_aluno\n",
        "nome_aluno = \"Maria\"\n",
        "print(\"As notas de \"+nome_aluno+\" foram: \"+str(dic_notas_alunos[nome_aluno])+\".\")\n",
        "#print(\"As notas de \", nome_aluno, \" foram: \", dic_notas_alunos[nome_aluno])"
      ],
      "execution_count": 165,
      "outputs": [
        {
          "output_type": "stream",
          "name": "stdout",
          "text": [
            "As notas de Maria foram: [20, 30, 29].\n"
          ]
        }
      ]
    },
    {
      "cell_type": "code",
      "metadata": {
        "colab": {
          "base_uri": "https://localhost:8080/"
        },
        "id": "yl2gkLE0uCGo",
        "outputId": "27906d73-aac4-4694-946a-eda6acf712be"
      },
      "source": [
        "print(nome_aluno+\" tirou \"+str(dic_notas_alunos[nome_aluno][0])+\" pontos na 1a prova.\")"
      ],
      "execution_count": 166,
      "outputs": [
        {
          "output_type": "stream",
          "name": "stdout",
          "text": [
            "Maria tirou 20 pontos na 1a prova.\n"
          ]
        }
      ]
    },
    {
      "cell_type": "code",
      "metadata": {
        "colab": {
          "base_uri": "https://localhost:8080/"
        },
        "id": "w9Gxweaft3Ok",
        "outputId": "2fe6e497-b458-404a-e4f1-1d86b03e58e5"
      },
      "source": [
        "dic_notas_alunos2"
      ],
      "execution_count": 167,
      "outputs": [
        {
          "output_type": "execute_result",
          "data": {
            "text/plain": [
              "{'José': {'nota1': 20, 'nota2': 23, 'nota3': 19},\n",
              " 'João': {'nota1': 30, 'nota2': 12, 'nota3': 21},\n",
              " 'Maria': {'nota1': 20, 'nota2': 30, 'nota3': 29}}"
            ]
          },
          "metadata": {},
          "execution_count": 167
        }
      ]
    },
    {
      "cell_type": "code",
      "metadata": {
        "colab": {
          "base_uri": "https://localhost:8080/"
        },
        "id": "bFlj-P-Cus1R",
        "outputId": "5feaeba9-2c4e-455a-bdca-665820508c8c"
      },
      "source": [
        "# Acessando a nota da primeira prova do João no dicionário dic_notas_alunos2\n",
        "dic_notas_alunos2[\"João\"][\"nota1\"]"
      ],
      "execution_count": 168,
      "outputs": [
        {
          "output_type": "execute_result",
          "data": {
            "text/plain": [
              "30"
            ]
          },
          "metadata": {},
          "execution_count": 168
        }
      ]
    }
  ]
}